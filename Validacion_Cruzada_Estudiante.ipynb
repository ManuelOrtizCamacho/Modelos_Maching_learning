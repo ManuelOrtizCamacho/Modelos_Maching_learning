{
 "cells": [
  {
   "cell_type": "markdown",
   "metadata": {},
   "source": [
    "# ¿Cómo puedo comparar diferentes modelos que predicen la probabilidad de impago de un préstamo?"
   ]
  },
  {
   "cell_type": "code",
   "execution_count": 1,
   "metadata": {},
   "outputs": [],
   "source": [
    "import pandas                  as pd\n",
    "import numpy                   as np\n",
    "import matplotlib.pyplot       as plt\n",
    "import seaborn                 as sns\n",
    "import os\n",
    "\n",
    "from scipy import stats\n",
    "\n",
    "%matplotlib inline\n",
    "plt.style.use('ggplot')\n",
    "\n",
    "import warnings\n",
    "warnings.filterwarnings('ignore')"
   ]
  },
  {
   "cell_type": "markdown",
   "metadata": {
    "tags": [
     "5_min"
    ]
   },
   "source": [
    "## Introducción\n",
    "\n",
    "Los bancos comerciales tradicionales no solían basarse en modelos estadísticos para decidir si debían emitirse préstamos personales, aunque esto está cambiando rápidamente en la actualidad. Usted es un ingeniero de machine learning que trabaja en un banco comercial moderno. Su equipo de ciencia de datos ya ha construido modelos de regresión sencillos para predecir la probabilidad de que esos préstamos sean impagados. Sin embargo, se ha dado cuenta de que muchos de estos modelos funcionan mucho peor en producción que en las pruebas.\n",
    "\n",
    "Su tarea es construir un modelo de probabilidad de impago que se sienta cómodo poniendo en producción.\n",
    "\n",
    "El conjunto de datos contiene los detalles de 5.000 solicitudes de préstamo que han sido emitidas previamente por su banco. Para cada préstamo, también se dispone del estado final del mismo (es decir, si el préstamo ha sido impagado):\n",
    "\n",
    "1. El archivo **\"loan_light.csv \"** contiene los detalles de 5000 préstamos\n",
    "2. El archivo **\"loan_param.xlsx \"** contiene la descripción de cada covariable\n",
    "\n",
    "El caso se desarrollará de la siguiente manera: 1) realizará una exploración de los datos para determinar las transformaciones de las variables apropiadas; 2) ajustará algunos modelos simples; 3) aprenderá sobre la **validación cruzada** y la utilizará para seleccionar el mejor modelo simple; y finalmente 4) construirá responsablemente modelos más complejos utilizando la validación cruzada."
   ]
  },
  {
   "cell_type": "markdown",
   "metadata": {
    "tags": [
     "40_min"
    ]
   },
   "source": [
    "## Exploración de datos\n",
    "\n",
    "Empecemos por echar un vistazo a los datos:"
   ]
  },
  {
   "cell_type": "code",
   "execution_count": 15,
   "metadata": {},
   "outputs": [],
   "source": [
    "Data = pd.read_csv(\"data\\loan_light.csv\")\n",
    "Data = Data.sample(frac=1)  # represental el 100 el 1 , para tomar los datos. prototipar los datos. "
   ]
  },
  {
   "cell_type": "code",
   "execution_count": 14,
   "metadata": {},
   "outputs": [
    {
     "data": {
      "text/html": [
       "<div>\n",
       "<style scoped>\n",
       "    .dataframe tbody tr th:only-of-type {\n",
       "        vertical-align: middle;\n",
       "    }\n",
       "\n",
       "    .dataframe tbody tr th {\n",
       "        vertical-align: top;\n",
       "    }\n",
       "\n",
       "    .dataframe thead th {\n",
       "        text-align: right;\n",
       "    }\n",
       "</style>\n",
       "<table border=\"1\" class=\"dataframe\">\n",
       "  <thead>\n",
       "    <tr style=\"text-align: right;\">\n",
       "      <th></th>\n",
       "      <th>annual_inc</th>\n",
       "      <th>application_type</th>\n",
       "      <th>avg_cur_bal</th>\n",
       "      <th>chargeoff_within_12_mths</th>\n",
       "      <th>delinq_2yrs</th>\n",
       "      <th>dti</th>\n",
       "      <th>emp_length</th>\n",
       "      <th>grade</th>\n",
       "      <th>inq_last_12m</th>\n",
       "      <th>installment</th>\n",
       "      <th>...</th>\n",
       "      <th>num_actv_bc_tl</th>\n",
       "      <th>pub_rec_bankruptcies</th>\n",
       "      <th>home_ownership</th>\n",
       "      <th>term</th>\n",
       "      <th>mort_acc</th>\n",
       "      <th>num_tl_90g_dpd_24m</th>\n",
       "      <th>purpose</th>\n",
       "      <th>year</th>\n",
       "      <th>loan_default</th>\n",
       "      <th>job</th>\n",
       "    </tr>\n",
       "  </thead>\n",
       "  <tbody>\n",
       "    <tr>\n",
       "      <th>4222</th>\n",
       "      <td>160000.0</td>\n",
       "      <td>Individual</td>\n",
       "      <td>18867.0</td>\n",
       "      <td>0.0</td>\n",
       "      <td>0.0</td>\n",
       "      <td>5.15</td>\n",
       "      <td>1</td>\n",
       "      <td>B</td>\n",
       "      <td>1.0</td>\n",
       "      <td>382.55</td>\n",
       "      <td>...</td>\n",
       "      <td>3.0</td>\n",
       "      <td>0.0</td>\n",
       "      <td>MORTGAGE</td>\n",
       "      <td>36</td>\n",
       "      <td>4.0</td>\n",
       "      <td>0.0</td>\n",
       "      <td>major_purchase</td>\n",
       "      <td>2016</td>\n",
       "      <td>1</td>\n",
       "      <td>administrator</td>\n",
       "    </tr>\n",
       "    <tr>\n",
       "      <th>311</th>\n",
       "      <td>72000.0</td>\n",
       "      <td>Joint App</td>\n",
       "      <td>4565.0</td>\n",
       "      <td>0.0</td>\n",
       "      <td>0.0</td>\n",
       "      <td>16.05</td>\n",
       "      <td>10</td>\n",
       "      <td>B</td>\n",
       "      <td>1.0</td>\n",
       "      <td>96.69</td>\n",
       "      <td>...</td>\n",
       "      <td>2.0</td>\n",
       "      <td>0.0</td>\n",
       "      <td>RENT</td>\n",
       "      <td>36</td>\n",
       "      <td>0.0</td>\n",
       "      <td>0.0</td>\n",
       "      <td>car</td>\n",
       "      <td>2018</td>\n",
       "      <td>1</td>\n",
       "      <td>operator</td>\n",
       "    </tr>\n",
       "    <tr>\n",
       "      <th>3864</th>\n",
       "      <td>35000.0</td>\n",
       "      <td>Individual</td>\n",
       "      <td>908.0</td>\n",
       "      <td>0.0</td>\n",
       "      <td>0.0</td>\n",
       "      <td>13.55</td>\n",
       "      <td>2</td>\n",
       "      <td>D</td>\n",
       "      <td>4.0</td>\n",
       "      <td>506.07</td>\n",
       "      <td>...</td>\n",
       "      <td>1.0</td>\n",
       "      <td>0.0</td>\n",
       "      <td>RENT</td>\n",
       "      <td>36</td>\n",
       "      <td>0.0</td>\n",
       "      <td>0.0</td>\n",
       "      <td>debt_consolidation</td>\n",
       "      <td>2016</td>\n",
       "      <td>0</td>\n",
       "      <td>supervisor</td>\n",
       "    </tr>\n",
       "    <tr>\n",
       "      <th>371</th>\n",
       "      <td>48000.0</td>\n",
       "      <td>Individual</td>\n",
       "      <td>11090.0</td>\n",
       "      <td>0.0</td>\n",
       "      <td>6.0</td>\n",
       "      <td>17.43</td>\n",
       "      <td>10</td>\n",
       "      <td>C</td>\n",
       "      <td>5.0</td>\n",
       "      <td>247.80</td>\n",
       "      <td>...</td>\n",
       "      <td>5.0</td>\n",
       "      <td>0.0</td>\n",
       "      <td>MORTGAGE</td>\n",
       "      <td>36</td>\n",
       "      <td>3.0</td>\n",
       "      <td>0.0</td>\n",
       "      <td>debt_consolidation</td>\n",
       "      <td>2016</td>\n",
       "      <td>0</td>\n",
       "      <td>other</td>\n",
       "    </tr>\n",
       "    <tr>\n",
       "      <th>4387</th>\n",
       "      <td>110000.0</td>\n",
       "      <td>Individual</td>\n",
       "      <td>8593.0</td>\n",
       "      <td>0.0</td>\n",
       "      <td>2.0</td>\n",
       "      <td>17.67</td>\n",
       "      <td>3</td>\n",
       "      <td>B</td>\n",
       "      <td>1.0</td>\n",
       "      <td>409.72</td>\n",
       "      <td>...</td>\n",
       "      <td>3.0</td>\n",
       "      <td>0.0</td>\n",
       "      <td>RENT</td>\n",
       "      <td>36</td>\n",
       "      <td>1.0</td>\n",
       "      <td>1.0</td>\n",
       "      <td>debt_consolidation</td>\n",
       "      <td>2016</td>\n",
       "      <td>1</td>\n",
       "      <td>other</td>\n",
       "    </tr>\n",
       "  </tbody>\n",
       "</table>\n",
       "<p>5 rows × 21 columns</p>\n",
       "</div>"
      ],
      "text/plain": [
       "      annual_inc application_type  avg_cur_bal  chargeoff_within_12_mths  \\\n",
       "4222    160000.0       Individual      18867.0                       0.0   \n",
       "311      72000.0        Joint App       4565.0                       0.0   \n",
       "3864     35000.0       Individual        908.0                       0.0   \n",
       "371      48000.0       Individual      11090.0                       0.0   \n",
       "4387    110000.0       Individual       8593.0                       0.0   \n",
       "\n",
       "      delinq_2yrs    dti  emp_length grade  inq_last_12m  installment  ...  \\\n",
       "4222          0.0   5.15           1     B           1.0       382.55  ...   \n",
       "311           0.0  16.05          10     B           1.0        96.69  ...   \n",
       "3864          0.0  13.55           2     D           4.0       506.07  ...   \n",
       "371           6.0  17.43          10     C           5.0       247.80  ...   \n",
       "4387          2.0  17.67           3     B           1.0       409.72  ...   \n",
       "\n",
       "      num_actv_bc_tl  pub_rec_bankruptcies  home_ownership term  mort_acc  \\\n",
       "4222             3.0                   0.0        MORTGAGE   36       4.0   \n",
       "311              2.0                   0.0            RENT   36       0.0   \n",
       "3864             1.0                   0.0            RENT   36       0.0   \n",
       "371              5.0                   0.0        MORTGAGE   36       3.0   \n",
       "4387             3.0                   0.0            RENT   36       1.0   \n",
       "\n",
       "      num_tl_90g_dpd_24m             purpose  year  loan_default  \\\n",
       "4222                 0.0      major_purchase  2016             1   \n",
       "311                  0.0                 car  2018             1   \n",
       "3864                 0.0  debt_consolidation  2016             0   \n",
       "371                  0.0  debt_consolidation  2016             0   \n",
       "4387                 1.0  debt_consolidation  2016             1   \n",
       "\n",
       "                job  \n",
       "4222  administrator  \n",
       "311        operator  \n",
       "3864     supervisor  \n",
       "371           other  \n",
       "4387          other  \n",
       "\n",
       "[5 rows x 21 columns]"
      ]
     },
     "execution_count": 14,
     "metadata": {},
     "output_type": "execute_result"
    }
   ],
   "source": [
    "Data.head()"
   ]
  },
  {
   "cell_type": "code",
   "execution_count": 13,
   "metadata": {},
   "outputs": [
    {
     "data": {
      "text/plain": [
       "Index(['annual_inc', 'application_type', 'avg_cur_bal',\n",
       "       'chargeoff_within_12_mths', 'delinq_2yrs', 'dti', 'emp_length', 'grade',\n",
       "       'inq_last_12m', 'installment', 'loan_amnt', 'num_actv_bc_tl',\n",
       "       'pub_rec_bankruptcies', 'home_ownership', 'term', 'mort_acc',\n",
       "       'num_tl_90g_dpd_24m', 'purpose', 'year', 'loan_default', 'job'],\n",
       "      dtype='object')"
      ]
     },
     "execution_count": 13,
     "metadata": {},
     "output_type": "execute_result"
    }
   ],
   "source": [
    "Data.keys()"
   ]
  },
  {
   "cell_type": "code",
   "execution_count": 18,
   "metadata": {},
   "outputs": [
    {
     "data": {
      "text/html": [
       "<style type=\"text/css\">\n",
       "#T_3714a_row0_col1, #T_3714a_row1_col1, #T_3714a_row2_col1, #T_3714a_row3_col1, #T_3714a_row4_col1, #T_3714a_row5_col1, #T_3714a_row6_col1, #T_3714a_row7_col1, #T_3714a_row8_col1, #T_3714a_row9_col1, #T_3714a_row10_col1, #T_3714a_row11_col1, #T_3714a_row12_col1, #T_3714a_row13_col1, #T_3714a_row14_col1, #T_3714a_row15_col1, #T_3714a_row16_col1, #T_3714a_row17_col1, #T_3714a_row18_col1, #T_3714a_row19_col1, #T_3714a_row20_col1 {\n",
       "  width: 1000px;\n",
       "}\n",
       "</style>\n",
       "<table id=\"T_3714a\">\n",
       "  <thead>\n",
       "    <tr>\n",
       "      <th class=\"blank level0\" >&nbsp;</th>\n",
       "      <th id=\"T_3714a_level0_col0\" class=\"col_heading level0 col0\" >BrowseNotesFile</th>\n",
       "      <th id=\"T_3714a_level0_col1\" class=\"col_heading level0 col1\" >Description</th>\n",
       "    </tr>\n",
       "  </thead>\n",
       "  <tbody>\n",
       "    <tr>\n",
       "      <th id=\"T_3714a_level0_row0\" class=\"row_heading level0 row0\" >0</th>\n",
       "      <td id=\"T_3714a_row0_col0\" class=\"data row0 col0\" >loanAmnt</td>\n",
       "      <td id=\"T_3714a_row0_col1\" class=\"data row0 col1\" >The listed amount of the loan applied for by the borrower. If at some point in time, the credit department reduces the loan amount, then it will be reflected in this value.</td>\n",
       "    </tr>\n",
       "    <tr>\n",
       "      <th id=\"T_3714a_level0_row1\" class=\"row_heading level0 row1\" >1</th>\n",
       "      <td id=\"T_3714a_row1_col0\" class=\"data row1 col0\" >annualInc</td>\n",
       "      <td id=\"T_3714a_row1_col1\" class=\"data row1 col1\" >The self-reported annual income provided by the borrower during registration.</td>\n",
       "    </tr>\n",
       "    <tr>\n",
       "      <th id=\"T_3714a_level0_row2\" class=\"row_heading level0 row2\" >2</th>\n",
       "      <td id=\"T_3714a_row2_col0\" class=\"data row2 col0\" >application_type</td>\n",
       "      <td id=\"T_3714a_row2_col1\" class=\"data row2 col1\" >Indicates whether the loan is an individual application or a joint application with two co-borrowers</td>\n",
       "    </tr>\n",
       "    <tr>\n",
       "      <th id=\"T_3714a_level0_row3\" class=\"row_heading level0 row3\" >3</th>\n",
       "      <td id=\"T_3714a_row3_col0\" class=\"data row3 col0\" >avg_cur_bal</td>\n",
       "      <td id=\"T_3714a_row3_col1\" class=\"data row3 col1\" >Average current balance of all accounts</td>\n",
       "    </tr>\n",
       "    <tr>\n",
       "      <th id=\"T_3714a_level0_row4\" class=\"row_heading level0 row4\" >4</th>\n",
       "      <td id=\"T_3714a_row4_col0\" class=\"data row4 col0\" >chargeoff_within_12_mths</td>\n",
       "      <td id=\"T_3714a_row4_col1\" class=\"data row4 col1\" >Number of charge-offs within 12 months</td>\n",
       "    </tr>\n",
       "    <tr>\n",
       "      <th id=\"T_3714a_level0_row5\" class=\"row_heading level0 row5\" >5</th>\n",
       "      <td id=\"T_3714a_row5_col0\" class=\"data row5 col0\" >delinq2Yrs</td>\n",
       "      <td id=\"T_3714a_row5_col1\" class=\"data row5 col1\" >The number of 30+ days past-due incidences of delinquency in the borrower's credit file for the past 2 years</td>\n",
       "    </tr>\n",
       "    <tr>\n",
       "      <th id=\"T_3714a_level0_row6\" class=\"row_heading level0 row6\" >6</th>\n",
       "      <td id=\"T_3714a_row6_col0\" class=\"data row6 col0\" >dti</td>\n",
       "      <td id=\"T_3714a_row6_col1\" class=\"data row6 col1\" >A ratio calculated using the borrower’s total monthly debt payments on the total debt obligations, excluding mortgage and the requested LC loan, divided by the borrower’s self-reported monthly income.</td>\n",
       "    </tr>\n",
       "    <tr>\n",
       "      <th id=\"T_3714a_level0_row7\" class=\"row_heading level0 row7\" >7</th>\n",
       "      <td id=\"T_3714a_row7_col0\" class=\"data row7 col0\" >emp_length</td>\n",
       "      <td id=\"T_3714a_row7_col1\" class=\"data row7 col1\" >Employment length in years. Possible values are between 0 and 10 where 0 means less than one year and 10 means ten or more years.</td>\n",
       "    </tr>\n",
       "    <tr>\n",
       "      <th id=\"T_3714a_level0_row8\" class=\"row_heading level0 row8\" >8</th>\n",
       "      <td id=\"T_3714a_row8_col0\" class=\"data row8 col0\" >grade</td>\n",
       "      <td id=\"T_3714a_row8_col1\" class=\"data row8 col1\" >LC assigned loan grade</td>\n",
       "    </tr>\n",
       "    <tr>\n",
       "      <th id=\"T_3714a_level0_row9\" class=\"row_heading level0 row9\" >9</th>\n",
       "      <td id=\"T_3714a_row9_col0\" class=\"data row9 col0\" >homeOwnership</td>\n",
       "      <td id=\"T_3714a_row9_col1\" class=\"data row9 col1\" >The home ownership status provided by the borrower during registration. Our values are: RENT, OWN, MORTGAGE, OTHER.</td>\n",
       "    </tr>\n",
       "    <tr>\n",
       "      <th id=\"T_3714a_level0_row10\" class=\"row_heading level0 row10\" >10</th>\n",
       "      <td id=\"T_3714a_row10_col0\" class=\"data row10 col0\" >inq_last_12m</td>\n",
       "      <td id=\"T_3714a_row10_col1\" class=\"data row10 col1\" >Number of credit inquiries in past 12 months</td>\n",
       "    </tr>\n",
       "    <tr>\n",
       "      <th id=\"T_3714a_level0_row11\" class=\"row_heading level0 row11\" >11</th>\n",
       "      <td id=\"T_3714a_row11_col0\" class=\"data row11 col0\" >installment</td>\n",
       "      <td id=\"T_3714a_row11_col1\" class=\"data row11 col1\" >The monthly payment owed by the borrower if the loan originates.</td>\n",
       "    </tr>\n",
       "    <tr>\n",
       "      <th id=\"T_3714a_level0_row12\" class=\"row_heading level0 row12\" >12</th>\n",
       "      <td id=\"T_3714a_row12_col0\" class=\"data row12 col0\" >job</td>\n",
       "      <td id=\"T_3714a_row12_col1\" class=\"data row12 col1\" >Job Description</td>\n",
       "    </tr>\n",
       "    <tr>\n",
       "      <th id=\"T_3714a_level0_row13\" class=\"row_heading level0 row13\" >13</th>\n",
       "      <td id=\"T_3714a_row13_col0\" class=\"data row13 col0\" >loanAmnt</td>\n",
       "      <td id=\"T_3714a_row13_col1\" class=\"data row13 col1\" >The listed amount of the loan applied for by the borrower. If at some point in time, the credit department reduces the loan amount, then it will be reflected in this value.</td>\n",
       "    </tr>\n",
       "    <tr>\n",
       "      <th id=\"T_3714a_level0_row14\" class=\"row_heading level0 row14\" >14</th>\n",
       "      <td id=\"T_3714a_row14_col0\" class=\"data row14 col0\" >loanDefault</td>\n",
       "      <td id=\"T_3714a_row14_col1\" class=\"data row14 col1\" >0: Loan was uptimated paid in full. 1: A default even occurred</td>\n",
       "    </tr>\n",
       "    <tr>\n",
       "      <th id=\"T_3714a_level0_row15\" class=\"row_heading level0 row15\" >15</th>\n",
       "      <td id=\"T_3714a_row15_col0\" class=\"data row15 col0\" >mortAcc</td>\n",
       "      <td id=\"T_3714a_row15_col1\" class=\"data row15 col1\" >Number of mortgage accounts.</td>\n",
       "    </tr>\n",
       "    <tr>\n",
       "      <th id=\"T_3714a_level0_row16\" class=\"row_heading level0 row16\" >16</th>\n",
       "      <td id=\"T_3714a_row16_col0\" class=\"data row16 col0\" >num_tl_90g_dpd_24m</td>\n",
       "      <td id=\"T_3714a_row16_col1\" class=\"data row16 col1\" >Number of accounts 90 or more days past due in last 24 months</td>\n",
       "    </tr>\n",
       "    <tr>\n",
       "      <th id=\"T_3714a_level0_row17\" class=\"row_heading level0 row17\" >17</th>\n",
       "      <td id=\"T_3714a_row17_col0\" class=\"data row17 col0\" >pub_rec_bankruptcies</td>\n",
       "      <td id=\"T_3714a_row17_col1\" class=\"data row17 col1\" >Number of public record bankruptcies</td>\n",
       "    </tr>\n",
       "    <tr>\n",
       "      <th id=\"T_3714a_level0_row18\" class=\"row_heading level0 row18\" >18</th>\n",
       "      <td id=\"T_3714a_row18_col0\" class=\"data row18 col0\" >purpose</td>\n",
       "      <td id=\"T_3714a_row18_col1\" class=\"data row18 col1\" >A category provided by the borrower for the loan request. </td>\n",
       "    </tr>\n",
       "    <tr>\n",
       "      <th id=\"T_3714a_level0_row19\" class=\"row_heading level0 row19\" >19</th>\n",
       "      <td id=\"T_3714a_row19_col0\" class=\"data row19 col0\" >term</td>\n",
       "      <td id=\"T_3714a_row19_col1\" class=\"data row19 col1\" >The number of payments on the loan. Values are in months and can be either 36 or 60.</td>\n",
       "    </tr>\n",
       "    <tr>\n",
       "      <th id=\"T_3714a_level0_row20\" class=\"row_heading level0 row20\" >20</th>\n",
       "      <td id=\"T_3714a_row20_col0\" class=\"data row20 col0\" >Year</td>\n",
       "      <td id=\"T_3714a_row20_col1\" class=\"data row20 col1\" >Year of Issue of the loan</td>\n",
       "    </tr>\n",
       "  </tbody>\n",
       "</table>\n"
      ],
      "text/plain": [
       "<pandas.io.formats.style.Styler at 0x1ff7d8dc850>"
      ]
     },
     "execution_count": 18,
     "metadata": {},
     "output_type": "execute_result"
    }
   ],
   "source": [
    "df_description = pd.read_excel('data\\loan_param.xlsx').dropna()\n",
    "df_description.style.set_properties(subset=['Description'], **{'width': '1000px'})"
   ]
  },
  {
   "cell_type": "markdown",
   "metadata": {
    "tags": [
     "20_min"
    ]
   },
   "source": [
    "### Ejercicio 1:\n",
    "\n",
    "Para cada uno de los siguientes, realiza la visualización dirigida y discute tus conclusiones a partir de ella."
   ]
  },
  {
   "cell_type": "markdown",
   "metadata": {
    "tags": [
     "4_min"
    ]
   },
   "source": [
    "#### 1.1\n",
    "\n",
    "Cree un [gráfico de barras](https://www.mathsisfun.com/data/bar-graphs.html) que muestre el número de préstamos que han sido objeto de impago y los que no lo han sido."
   ]
  },
  {
   "cell_type": "markdown",
   "metadata": {
    "tags": [
     "ans_st"
    ]
   },
   "source": [
    "**Respuesta.**"
   ]
  },
  {
   "cell_type": "code",
   "execution_count": 30,
   "metadata": {},
   "outputs": [
    {
     "ename": "TypeError",
     "evalue": "bar() missing 1 required positional argument: 'height'",
     "output_type": "error",
     "traceback": [
      "\u001b[1;31m---------------------------------------------------------------------------\u001b[0m",
      "\u001b[1;31mTypeError\u001b[0m                                 Traceback (most recent call last)",
      "Cell \u001b[1;32mIn[30], line 4\u001b[0m\n\u001b[0;32m      2\u001b[0m Unpaid\u001b[38;5;241m=\u001b[39mdatos[\u001b[38;5;241m0\u001b[39m]\n\u001b[0;32m      3\u001b[0m paid\u001b[38;5;241m=\u001b[39mdatos[\u001b[38;5;241m1\u001b[39m]\n\u001b[1;32m----> 4\u001b[0m \u001b[43mplt\u001b[49m\u001b[38;5;241;43m.\u001b[39;49m\u001b[43mbar\u001b[49m\u001b[43m(\u001b[49m\u001b[43mUnpaid\u001b[49m\u001b[43m)\u001b[49m\n",
      "\u001b[1;31mTypeError\u001b[0m: bar() missing 1 required positional argument: 'height'"
     ]
    }
   ],
   "source": [
    "datos=Data['loan_default'].value_counts()\n",
    "Unpaid=datos[0]\n",
    "paid=datos[1]\n",
    "plt.bar(Unpaid)"
   ]
  },
  {
   "cell_type": "code",
   "execution_count": 43,
   "metadata": {},
   "outputs": [
    {
     "data": {
      "text/plain": [
       "Text(0.5, 1.0, 'loan Default')"
      ]
     },
     "execution_count": 43,
     "metadata": {},
     "output_type": "execute_result"
    },
    {
     "data": {
      "image/png": "[encoded data removed]",
      "text/plain": [
       "<Figure size 640x480 with 1 Axes>"
      ]
     },
     "metadata": {},
     "output_type": "display_data"
    }
   ],
   "source": [
    "sns.countplot(x='loan_default',data=Data)\n",
    "plt.title('loan Default')"
   ]
  },
  {
   "cell_type": "markdown",
   "metadata": {},
   "source": [
    "-------"
   ]
  },
  {
   "cell_type": "markdown",
   "metadata": {
    "tags": [
     "3_min"
    ]
   },
   "source": [
    "#### 1.2\n",
    "\n",
    "Trace un [histograma](https://www.mathsisfun.com/data/histograms.html) de los ingresos anuales."
   ]
  },
  {
   "cell_type": "markdown",
   "metadata": {
    "tags": [
     "ans_st"
    ]
   },
   "source": [
    "**Respuesta.**"
   ]
  },
  {
   "cell_type": "code",
   "execution_count": 42,
   "metadata": {},
   "outputs": [
    {
     "data": {
      "text/plain": [
       "<Axes: >"
      ]
     },
     "execution_count": 42,
     "metadata": {},
     "output_type": "execute_result"
    },
    {
     "data": {
      "image/png": "[encoded data removed]",
      "text/plain": [
       "<Figure size 640x480 with 1 Axes>"
      ]
     },
     "metadata": {},
     "output_type": "display_data"
    }
   ],
   "source": [
    "Data.annual_inc.hist(bins=100,density=True)"
   ]
  },
  {
   "cell_type": "markdown",
   "metadata": {},
   "source": [
    "-------"
   ]
  },
  {
   "cell_type": "markdown",
   "metadata": {},
   "source": [
    "Vemos que los datos están bastante sesgados. Probemos una [transformación logarítmica](https://dev.to/rokaandy/logarithmic-transformation-in-linear-regression-models-why-when-3a7c) para que los datos se distribuyan de forma más normal:"
   ]
  },
  {
   "cell_type": "code",
   "execution_count": 32,
   "metadata": {},
   "outputs": [
    {
     "data": {
      "text/plain": [
       "Text(0.5, 0, 'Annual Income')"
      ]
     },
     "execution_count": 32,
     "metadata": {},
     "output_type": "execute_result"
    },
    {
     "data": {
      "image/png": "[encoded data removed]",
      "text/plain": [
       "<Figure size 640x480 with 1 Axes>"
      ]
     },
     "metadata": {},
     "output_type": "display_data"
    }
   ],
   "source": [
    "np.log(Data.annual_inc).hist(bins=100, density=True)\n",
    "plt.title(\"Annual Income Distribution\")\n",
    "plt.xlabel(\"Annual Income\")"
   ]
  },
  {
   "cell_type": "markdown",
   "metadata": {},
   "source": [
    "Si tiene un sesgo a la izquierda, si se hace el logaritmo con valores entre un valor en rangos mas normales, reducir , toca para llevar una distribucion normal.\n"
   ]
  },
  {
   "cell_type": "markdown",
   "metadata": {
    "tags": [
     "5_min"
    ]
   },
   "source": [
    "#### 1.3\n",
    "\n",
    "¿Es diferente la distribución de los ingresos anuales entre los solicitantes que incumplieron y los que no incumplieron sus préstamos?"
   ]
  },
  {
   "cell_type": "markdown",
   "metadata": {
    "tags": [
     "ans_st"
    ]
   },
   "source": [
    "**Respuesta.**"
   ]
  },
  {
   "cell_type": "code",
   "execution_count": 39,
   "metadata": {},
   "outputs": [
    {
     "data": {
      "text/plain": [
       "Text(0.5, 1.0, 'Annual Salary -- Loan Status')"
      ]
     },
     "execution_count": 39,
     "metadata": {},
     "output_type": "execute_result"
    },
    {
     "data": {
      "image/png": "[encoded data removed]",
      "text/plain": [
       "<Figure size 640x480 with 1 Axes>"
      ]
     },
     "metadata": {},
     "output_type": "display_data"
    }
   ],
   "source": [
    "np.log(Data['annual_inc'][Data.loan_default == 0]).hist(bins=50, density=True, alpha=0.5, label=\"Paid\")\n",
    "np.log(Data['annual_inc'][Data.loan_default == 1]).hist(bins=50, density=True, alpha=0.5, label=\"Default\")\n",
    "plt.xlabel(\"Annual Income\")\n",
    "plt.legend()\n",
    "plt.title(\"Annual Salary -- Loan Status\", fontsize=20)"
   ]
  },
  {
   "cell_type": "markdown",
   "metadata": {},
   "source": [
    "-------"
   ]
  },
  {
   "cell_type": "markdown",
   "metadata": {
    "tags": [
     "8_min"
    ]
   },
   "source": [
    "#### 1.4\n",
    "\n",
    "Explora la asociación entre los ingresos anuales y la cuota mensual."
   ]
  },
  {
   "cell_type": "markdown",
   "metadata": {
    "tags": [
     "ans_st"
    ]
   },
   "source": [
    "**Respuesta.**"
   ]
  },
  {
   "cell_type": "code",
   "execution_count": 45,
   "metadata": {
    "scrolled": true
   },
   "outputs": [
    {
     "ename": "TypeError",
     "evalue": "jointplot() takes from 0 to 1 positional arguments but 2 positional arguments (and 1 keyword-only argument) were given",
     "output_type": "error",
     "traceback": [
      "\u001b[1;31m---------------------------------------------------------------------------\u001b[0m",
      "\u001b[1;31mTypeError\u001b[0m                                 Traceback (most recent call last)",
      "Cell \u001b[1;32mIn[45], line 1\u001b[0m\n\u001b[1;32m----> 1\u001b[0m \u001b[43msns\u001b[49m\u001b[38;5;241;43m.\u001b[39;49m\u001b[43mjointplot\u001b[49m\u001b[43m(\u001b[49m\u001b[43mData\u001b[49m\u001b[38;5;241;43m.\u001b[39;49m\u001b[43minstallment\u001b[49m\u001b[43m,\u001b[49m\u001b[43m \u001b[49m\u001b[43mData\u001b[49m\u001b[38;5;241;43m.\u001b[39;49m\u001b[43mannual_inc\u001b[49m\u001b[43m,\u001b[49m\u001b[43m \u001b[49m\u001b[43mhue\u001b[49m\u001b[38;5;241;43m=\u001b[39;49m\u001b[43m \u001b[49m\u001b[43mData\u001b[49m\u001b[38;5;241;43m.\u001b[39;49m\u001b[43mloan_default\u001b[49m\u001b[43m)\u001b[49m\n",
      "\u001b[1;31mTypeError\u001b[0m: jointplot() takes from 0 to 1 positional arguments but 2 positional arguments (and 1 keyword-only argument) were given"
     ]
    }
   ],
   "source": [
    "sns.jointplot(Data.installment, Data.annual_inc, hue= Data.loan_default)"
   ]
  },
  {
   "cell_type": "markdown",
   "metadata": {},
   "source": [
    "-------"
   ]
  },
  {
   "cell_type": "markdown",
   "metadata": {},
   "source": [
    "A continuación se presentan otras cifras que analizan la relación entre otras covariables numéricas y la probabilidad de impago, así como los ingresos anuales:"
   ]
  },
  {
   "cell_type": "markdown",
   "metadata": {},
   "source": [
    "`emp_length`:"
   ]
  },
  {
   "cell_type": "code",
   "execution_count": 40,
   "metadata": {},
   "outputs": [
    {
     "data": {
      "text/plain": [
       "Text(0.5, 1.0, 'Default probability vs. emp_lenght')"
      ]
     },
     "execution_count": 40,
     "metadata": {},
     "output_type": "execute_result"
    },
    {
     "data": {
      "image/png": "[encoded data removed]",
      "text/plain": [
       "<Figure size 1000x500 with 2 Axes>"
      ]
     },
     "metadata": {},
     "output_type": "display_data"
    }
   ],
   "source": [
    "fig, (ax1, ax2) = plt.subplots(figsize = (10,5), ncols=2, sharey= False)\n",
    "sns.boxplot(x='emp_length', y = 'annual_inc', data = Data, showfliers=False, ax = ax1) #showfliers=False for nice display\n",
    "ax1.set_title(\"Employment length vs annual income\")\n",
    "Data[[\"emp_length\",'loan_default']].groupby(\"emp_length\").mean().plot.bar(rot=90,ax = ax2)\n",
    "plt.title(\"Default probability vs. emp_lenght\")"
   ]
  },
  {
   "cell_type": "markdown",
   "metadata": {},
   "source": [
    "`homeOwnership`:"
   ]
  },
  {
   "cell_type": "code",
   "execution_count": 47,
   "metadata": {},
   "outputs": [
    {
     "data": {
      "image/png": "[encoded data removed]",
      "text/plain": [
       "<Figure size 1000x500 with 2 Axes>"
      ]
     },
     "metadata": {},
     "output_type": "display_data"
    }
   ],
   "source": [
    "fig, (ax1, ax2) = plt.subplots(figsize = (10,5), ncols=2, sharey= False)\n",
    "sns.boxplot(x=\"home_ownership\",y=\"annual_inc\", data = Data, showfliers=False, ax = ax1) #showfliers=False for nice display\n",
    "ax1.set_title(\"Home ownership vs. annual income\")\n",
    "Data[[\"home_ownership\",'loan_default']].groupby(\"home_ownership\").mean().plot.bar(rot=90,ax = ax2)\n",
    "plt.title(\"Default probability vs. home ownership\");"
   ]
  },
  {
   "cell_type": "markdown",
   "metadata": {},
   "source": [
    "A continuación se presentan algunas cifras que muestran la relación entre diversas variables categóricas y la probabilidad de impago:"
   ]
  },
  {
   "cell_type": "markdown",
   "metadata": {},
   "source": [
    "`purpose`:"
   ]
  },
  {
   "cell_type": "code",
   "execution_count": null,
   "metadata": {},
   "outputs": [],
   "source": [
    "plt.figure(figsize= (10,5))\n",
    "Data.emp_length.value_counts()\n",
    "sns.countplot(x='purpose', order=Data['purpose'].value_counts().index, data = Data) \n",
    "plt.xticks(rotation=90)\n",
    "plt.title(\"Distribution of Loan Purposes\", fontsize=20);"
   ]
  },
  {
   "cell_type": "code",
   "execution_count": null,
   "metadata": {},
   "outputs": [],
   "source": [
    "plt.figure(figsize= (10,5))\n",
    "purpose_default = Data[[\"loan_default\", \"purpose\"]].groupby(\"purpose\").mean()\n",
    "purpose_default = purpose_default.sort_values(by=\"loan_default\",axis=0, ascending=False)\n",
    "sns.barplot(x=purpose_default.index[:30], \n",
    "            y=purpose_default[\"loan_default\"][:30].values,\n",
    "            orient=\"v\")\n",
    "plt.xticks(rotation=90)\n",
    "plt.ylabel(\"Default Probability\");\n",
    "plt.title(\"Default Probability by Loan Purpose\")"
   ]
  },
  {
   "cell_type": "markdown",
   "metadata": {},
   "source": [
    "`job`:"
   ]
  },
  {
   "cell_type": "code",
   "execution_count": null,
   "metadata": {
    "scrolled": false
   },
   "outputs": [],
   "source": [
    "plt.figure(figsize= (15,5))\n",
    "sns.barplot(x=Data[\"job\"].value_counts()[:30].index.values , \n",
    "            y=100 * Data.job.value_counts()[:30].values / len(Data),\n",
    "            orient=\"v\")\n",
    "plt.xticks(rotation=90)\n",
    "plt.ylabel(\"Percentage of Population\")\n",
    "plt.title(\"Distribution of Jobs\", fontsize=20);\n"
   ]
  },
  {
   "cell_type": "code",
   "execution_count": null,
   "metadata": {},
   "outputs": [],
   "source": [
    "plt.figure(figsize= (20,5))\n",
    "\n",
    "df_job_default = Data[[\"loan_default\", \"job\"]].groupby(\"job\").mean()\n",
    "df_job_default = df_job_default.sort_values(by=\"loan_default\",axis=0, ascending=False)\n",
    "sns.barplot(x=df_job_default.index[:50], \n",
    "            y=df_job_default[\"loan_default\"][:50].values,\n",
    "            orient=\"v\")\n",
    "plt.xticks(rotation=90)\n",
    "\n",
    "plt.ylabel(\"Defaut Probability\")\n",
    "plt.title(\"Default Probability by Job Type\", fontsize=20, verticalalignment='bottom');"
   ]
  },
  {
   "cell_type": "markdown",
   "metadata": {},
   "source": [
    "### Añadir una nueva variable\n",
    "\n",
    "La cuota anual que debe el prestatario, como fracción de sus ingresos anuales, es una métrica estándar que se utiliza para evaluar la conveniencia de conceder un préstamo. Definamos una nueva variable **\"cuota_ingresos \"** que codifique la cuota como fracción de los ingresos anuales y estudiemos su asociación con las demás características:"
   ]
  },
  {
   "cell_type": "markdown",
   "metadata": {},
   "source": [
    "por lo genral se usa la logisctica , que da la base , y se comparo "
   ]
  },
  {
   "cell_type": "markdown",
   "metadata": {},
   "source": [
    "anadir una variable es el conocionmineto del dominio , es la relacion de dos temas "
   ]
  },
  {
   "cell_type": "code",
   "execution_count": 48,
   "metadata": {},
   "outputs": [
    {
     "data": {
      "text/plain": [
       "Text(0.5, 0, 'Installment / Income')"
      ]
     },
     "execution_count": 48,
     "metadata": {},
     "output_type": "execute_result"
    },
    {
     "data": {
      "image/png": "[encoded data removed]",
      "text/plain": [
       "<Figure size 640x480 with 1 Axes>"
      ]
     },
     "metadata": {},
     "output_type": "display_data"
    }
   ],
   "source": [
    "Data['install_income'] = 12 * Data.installment / Data.annual_inc\n",
    "H = plt.hist(Data['install_income'], bins=100, density=True)\n",
    "plt.xlabel(r\"Installment / Income\")"
   ]
  },
  {
   "cell_type": "markdown",
   "metadata": {},
   "source": [
    "Para investigar fácilmente la asociación de esta variable con la probabilidad de impago, defina una nueva covariable llamada `install_income_disc` que es una versión discretizada de `install_income`:"
   ]
  },
  {
   "cell_type": "code",
   "execution_count": null,
   "metadata": {},
   "outputs": [],
   "source": [
    "Data[\"install_income_disc\"] = (Data.install_income*20).astype(int)/20.  #discretization\n",
    "Data[[\"loan_default\", \"install_income_disc\"]].groupby(\"install_income_disc\").mean().plot.bar(rot=90)\n",
    "Data = Data.drop([\"install_income_disc\"], axis=1)"
   ]
  },
  {
   "cell_type": "code",
   "execution_count": null,
   "metadata": {},
   "outputs": [],
   "source": [
    "max((Data.install_income*10).astype(int)/10)"
   ]
  },
  {
   "cell_type": "markdown",
   "metadata": {
    "tags": [
     "10_min"
    ]
   },
   "source": [
    "### Ejercicio 2:\n",
    "\n",
    "Visualice la [matriz de correlación](https://www.statisticshowto.com/correlation-matrix/) en todas las características numéricas utilizando el comando `sns.heatmap()`:"
   ]
  },
  {
   "cell_type": "markdown",
   "metadata": {
    "tags": [
     "ans_st"
    ]
   },
   "source": [
    "**Respuesta.**"
   ]
  },
  {
   "cell_type": "code",
   "execution_count": null,
   "metadata": {},
   "outputs": [],
   "source": [
    "#compute correlation matrix\n",
    "df_correlations = Data.corr()\n",
    "\n",
    "#mask the upper half for visualization purposes\n",
    "mask = np.zeros_like(df_correlations, dtype=np.bool)\n",
    "mask[np.triu_indices_from(mask)] = True\n",
    "\n",
    "# Draw the heatmap with the mask and correct aspect ratio\n",
    "plt.figure(figsize= (10,10))\n",
    "\n",
    "cmap = sns.diverging_palette(220, 10, as_cmap=True)\n",
    "sns.heatmap(df_correlations,mask=mask,  vmax=1, vmin=-1, cmap=cmap, \n",
    "            center=0,\n",
    "            square=True, linewidths=.5, cbar_kws={\"shrink\": .5});"
   ]
  },
  {
   "cell_type": "markdown",
   "metadata": {},
   "source": [
    "-------"
   ]
  },
  {
   "cell_type": "markdown",
   "metadata": {
    "tags": [
     "20_min"
    ]
   },
   "source": [
    "## Construyendo un modelo de predicción\n",
    "\n",
    "Empecemos por construir un [modelo de regresión logística] estándar (https://www.youtube.com/watch?v=yIYKR4sgzI8). En general, es importante y extremadamente útil crear primero modelos básicos/simples que puedan compararse con modelos más complejos más adelante."
   ]
  },
  {
   "cell_type": "markdown",
   "metadata": {
    "tags": [
     "15_min"
    ]
   },
   "source": [
    "### Ejercicio 3:"
   ]
  },
  {
   "cell_type": "markdown",
   "metadata": {
    "tags": [
     "5_min"
    ]
   },
   "source": [
    "#### 3.1\n",
    "\n",
    "Utilizando la función `LogisticRegression()` de `scikit-learn`, escriba una función llamada `fit_logistic_regression(X,y)` que ajuste una regresión logística sobre el conjunto de covariables `X` y la variable de respuesta asociada `y`."
   ]
  },
  {
   "cell_type": "markdown",
   "metadata": {
    "tags": [
     "ans_st"
    ]
   },
   "source": [
    "**Respuesta.**"
   ]
  },
  {
   "cell_type": "code",
   "execution_count": 2,
   "metadata": {},
   "outputs": [],
   "source": [
    "from sklearn.linear_model import LogisticRegression\n",
    "def fit_logistic_regression(X, y): # y x and y son los datos que que se utilizada para entrenar y evaluar \n",
    "    # Crear una instancia del modelo de regresión logística\n",
    "    model = LogisticRegression()\n",
    "\n",
    "    # Ajustar el modelo a los datos\n",
    "    model.fit(X, y)\n",
    "\n",
    "    return model"
   ]
  },
  {
   "cell_type": "markdown",
   "metadata": {},
   "source": [
    "-------"
   ]
  },
  {
   "cell_type": "markdown",
   "metadata": {
    "tags": [
     "5_min"
    ]
   },
   "source": [
    "#### 3.2\n",
    "\n",
    "Cree un [modelo de regresión logística] básico (https://towardsdatascience.com/logistic-regression-detailed-overview-46c4da4303bc) para predecir el impago del préstamo con una sola característica: `install_income`.  Llame a este modelo `modelo1`. Utilice una división 70/30 de los datos entre el entrenamiento y la prueba."
   ]
  },
  {
   "cell_type": "markdown",
   "metadata": {
    "tags": [
     "ans_st"
    ]
   },
   "source": [
    "**Respuesta.**"
   ]
  },
  {
   "cell_type": "code",
   "execution_count": null,
   "metadata": {},
   "outputs": [],
   "source": [
    "n_total = len(Data)\n",
    "n_train = int(0.7*n_total)\n",
    "\n",
    "X, y = Data[[\"install_income\"]], Data.loan_default\n",
    "X_train, y_train = X[:n_train], y[:n_train]\n",
    "X_test, y_test = X[n_train:], y[n_train:]\n",
    "\n",
    "model1 = fit_logistic_regression(X_train, y_train)\n",
    "y_test_pred = model1.predict_proba(X_test)[:,1] "
   ]
  },
  {
   "cell_type": "markdown",
   "metadata": {},
   "source": [
    "-------"
   ]
  },
  {
   "cell_type": "markdown",
   "metadata": {},
   "source": [
    "Ahora que hemos ajustado un modelo, procederemos a evaluar lo \"bueno\" que es. Los modelos de clasificación se juzgan de forma diferente a los modelos de regresión lineal. Una herramienta común a la que tendrá que acostumbrarse es la [matriz de confusión](https://towardsdatascience.com/understanding-confusion-matrix-a9ad42dcfd62). Además, a continuación presentaremos algunas otras métricas relacionadas con los algoritmos de clasificación. Es importante señalar que estas métricas se aplican a otros modelos de clasificación, no sólo a la regresión logística."
   ]
  },
  {
   "cell_type": "markdown",
   "metadata": {
    "tags": [
     "5_min"
    ]
   },
   "source": [
    "#### 3.3\n",
    "\n",
    "Trace la [curva ROC](https://towardsdatascience.com/understanding-auc-roc-curve-68b2303cc9c5) del `modelo1` y encuentre el área bajo la curva."
   ]
  },
  {
   "cell_type": "markdown",
   "metadata": {
    "tags": [
     "ans_st"
    ]
   },
   "source": [
    "**Respuesta.**"
   ]
  },
  {
   "cell_type": "code",
   "execution_count": null,
   "metadata": {},
   "outputs": [],
   "source": [
    "from sklearn.metrics import roc_curve, auc\n",
    "from sklearn.model_selection import StratifiedKFold\n",
    "\n",
    "fpr, tpr, _ = roc_curve(y_test, y_test_pred)  #compute FPR/TPR\n",
    "auc_baseline = auc(fpr, tpr) # compute AUC\n",
    "\n",
    "plt.plot(fpr, tpr, \"b-\", label=\"AUC(basline)={:2.2f}\".format(auc_baseline))\n",
    "plt.xlabel(\"False Positive Rate\")\n",
    "plt.ylabel(\"True Positive Rate\")\n",
    "plt.legend(fontsize=15)\n",
    "plt.plot([0,1], [0,1], \"r--\")\n",
    "plt.title(\"ROC curve -- Baseline Model\");"
   ]
  },
  {
   "cell_type": "markdown",
   "metadata": {},
   "source": [
    "-------"
   ]
  },
  {
   "cell_type": "markdown",
   "metadata": {
    "tags": [
     "5_min"
    ]
   },
   "source": [
    "### Ejercicio 4:"
   ]
  },
  {
   "cell_type": "markdown",
   "metadata": {
    "tags": [
     "2_min"
    ]
   },
   "source": [
    "#### 4.1\n",
    "\n",
    "Considere el \"modelo 1\" de arriba. ¿Le gustaría que este fuera su modelo final? ¿Por qué sí o por qué no?"
   ]
  },
  {
   "cell_type": "markdown",
   "metadata": {
    "tags": [
     "ans_st"
    ]
   },
   "source": [
    "**Respuesta.**"
   ]
  },
  {
   "cell_type": "markdown",
   "metadata": {},
   "source": [
    "-------"
   ]
  },
  {
   "cell_type": "markdown",
   "metadata": {
    "tags": [
     "3_min"
    ]
   },
   "source": [
    "#### 4.2\n",
    "\n",
    "En su lugar, pongamos todas las variables disponibles en el modelo, de modo que aprovechemos al máximo la información disponible. ¿Estarías a favor de esto o no?"
   ]
  },
  {
   "cell_type": "markdown",
   "metadata": {
    "tags": [
     "ans_st"
    ]
   },
   "source": [
    "**Respuesta.**"
   ]
  },
  {
   "cell_type": "markdown",
   "metadata": {},
   "source": [
    "-------"
   ]
  },
  {
   "cell_type": "markdown",
   "metadata": {},
   "source": [
    "En la mayoría de los casos, se trabaja con conjuntos de datos con muchas características que tienen su propia distribución. Por lo general, se dedica una gran cantidad de tiempo a la selección de características y se entrenan muchos modelos durante este tiempo. Es muy raro que simplemente se introduzcan todas las características y se ajusten una vez para obtener el modelo óptimo. \n",
    "    \n",
    "En realidad, aplicaríamos la validación cruzada sobre numerosos subconjuntos de características basados en el conocimiento del dominio del conjunto de datos para ver qué conjunto de características optimiza realmente el modelo que estamos intentando crear."
   ]
  },
  {
   "cell_type": "markdown",
   "metadata": {
    "tags": [
     "30_min"
    ]
   },
   "source": [
    "## Cross-validation"
   ]
  },
  {
   "cell_type": "markdown",
   "metadata": {},
   "source": [
    "La [**Validación cruzada**](https://towardsdatascience.com/why-and-how-to-cross-validate-a-model-d6424b45261f) es un conjunto de técnicas para evaluar la eficacia de los resultados de un modelo en un conjunto de datos fuera de la muestra, es decir, en la práctica o en la producción. Se utiliza principalmente para detectar el exceso de adaptación.\n",
    "\n",
    "La validación cruzada funciona de la siguiente manera: se dividen los datos disponibles en $k$ conjuntos, o **folds (pliegues)**. Se utilizarán $k - 1$ de estos pliegues para entrenar el modelo, mientras que el pliegue retenido se utilizará como conjunto de prueba en el que se evalúa el modelo. Para la estabilidad computacional, este procedimiento se suele dividir muchas veces, de forma que cada pliegue tenga la oportunidad de servir como conjunto de prueba. Para cada repetición, se calcula una métrica de rendimiento de la predicción (por ejemplo, AUC) en el conjunto de prueba. A continuación, se presenta la media de estas métricas, así como su desviación estándar. \n",
    "\n",
    "No existe una ciencia exacta para elegir un $k$ adecuado para su conjunto de datos. Depende del tipo de datos que se utilice y de su tamaño. Cuanto más grande sea $k$, más iteraciones se realizan, lo que reduce la posibilidad de tener \"mala suerte\"; sin embargo, realizar más iteraciones puede ser costoso en algunos casos. Además, es importante asegurarse de que, independientemente de la cantidad de $k$ que se elija, el conjunto de validación sea lo suficientemente grande como para que tenga sentido. Si tiene un conjunto de datos de 100 puntos y elige un $k$ de 20, entonces el conjunto de validación será sólo de 5 puntos. Es probable que algunas iteraciones tengan un mal rendimiento simplemente porque el conjunto de validación es demasiado pequeño y potencialmente demasiado diferente del conjunto de entrenamiento.\n",
    "\n",
    "Aquí se muestra un ejemplo de validación cruzada de 5 veces:"
   ]
  },
  {
   "cell_type": "markdown",
   "metadata": {},
   "source": [
    "![](cv_fig.png)"
   ]
  },
  {
   "cell_type": "markdown",
   "metadata": {},
   "source": [
    "Hagamos esto con código. El siguiente código muestra los 5 pliegues diferentes utilizados en un enfoque estándar de validación cruzada de 5 pliegues. Para ello, utiliza la función `StratifiedKFold()` de `scikit-learn`:"
   ]
  },
  {
   "cell_type": "code",
   "execution_count": null,
   "metadata": {},
   "outputs": [],
   "source": [
    "from sklearn.model_selection import StratifiedKFold\n",
    "\n",
    "skf = StratifiedKFold(n_splits=5)\n",
    "for k, (train_index, test_index) in enumerate( skf.split(X, y) ):\n",
    "    plt.plot(train_index, [k+1 for _ in train_index], \".\")\n",
    "plt.ylim(0,6)\n",
    "plt.ylabel(\"FOLD\")\n",
    "plt.title(\"CROSS VALIDATION FOLDS\")"
   ]
  },
  {
   "cell_type": "markdown",
   "metadata": {},
   "source": [
    "El siguiente código define una función `compute_AUC(X, y, train_index, test_index)` que calcula el AUC de un modelo entrenado en \"train_index\" y probado en \"test_index\"."
   ]
  },
  {
   "cell_type": "code",
   "execution_count": null,
   "metadata": {},
   "outputs": [],
   "source": [
    "def compute_AUC(X, y, train_index, test_index):\n",
    "    \"\"\"\n",
    "    feature/output: X, y\n",
    "    dataset split: train_index, test_index\n",
    "    \"\"\"\n",
    "    X_train, y_train = X.iloc[train_index], y.iloc[train_index]\n",
    "    X_test, y_test = X.iloc[test_index], y.iloc[test_index]\n",
    "\n",
    "    clf = fit_logistic_regression(X_train, y_train)\n",
    "    default_proba_test = clf.predict_proba(X_test)[:,1]  \n",
    "    fpr, tpr, _ = roc_curve(y_test, default_proba_test)\n",
    "    auc_score = auc(fpr, tpr)\n",
    "    return auc_score, fpr, tpr"
   ]
  },
  {
   "cell_type": "markdown",
   "metadata": {
    "tags": [
     "5_min"
    ]
   },
   "source": [
    "### Ejercicio 5:\n",
    "\n",
    "Con la ayuda de la función `compute_AUC` definida anteriormente, escriba una función `cross_validation_AUC(X,y,nfold)` que realice una validación cruzada de 10 pliegues y devuelva una lista que contenga el área bajo la curva para cada pliegue de la validación cruzada."
   ]
  },
  {
   "cell_type": "markdown",
   "metadata": {
    "tags": [
     "ans_st"
    ]
   },
   "source": [
    "**Respuesta.**"
   ]
  },
  {
   "cell_type": "code",
   "execution_count": null,
   "metadata": {},
   "outputs": [],
   "source": []
  },
  {
   "cell_type": "markdown",
   "metadata": {},
   "source": [
    "-------"
   ]
  },
  {
   "cell_type": "markdown",
   "metadata": {},
   "source": [
    "Ahora estimaremos y compararemos, mediante un análisis de validación cruzada, el rendimiento de todos los \"modelos simples\" que sólo utilizan una característica numérica como entrada. Como se ha comentado en la sección EDA, utilizaremos la transformación logarítmica para las variables \"ingresos anuales\", \"importe del préstamo\" y \"valor medio\":"
   ]
  },
  {
   "cell_type": "code",
   "execution_count": null,
   "metadata": {},
   "outputs": [],
   "source": [
    "# let us extract only the numerical (i.e non-categorical) features\n",
    "numerics = ['int16', 'int32', 'int64', 'float16', 'float32', 'float64']\n",
    "Data_numerics = Data.select_dtypes(include=numerics)\n",
    "Data_numerics = Data_numerics.drop([\"installment\", \"year\"], axis=1)\n",
    "\n",
    "# Using a log scale when appropriate\n",
    "Data_numerics[\"annual_inc\"] = np.log10(Data_numerics[\"annual_inc\"])\n",
    "Data_numerics[\"loan_amnt\"] = np.log10(Data_numerics[\"loan_amnt\"])\n",
    "Data_numerics[\"avg_cur_bal\"] = np.log10(1.+Data_numerics[\"avg_cur_bal\"])"
   ]
  },
  {
   "cell_type": "markdown",
   "metadata": {},
   "source": [
    "Calculemos las estimaciones de validación cruzada del AUC para cada modelo de característica única:"
   ]
  },
  {
   "cell_type": "code",
   "execution_count": null,
   "metadata": {},
   "outputs": [],
   "source": [
    "model_perf = pd.DataFrame({}) #this data-frame will contain the AUC estimates\n",
    "for key in Data_numerics.keys():\n",
    "    if key == \"loan_default\": continue\n",
    "    X_full, y_full = Data_numerics[[key]], Data_numerics.loan_default\n",
    "    auc_list = cross_validation_AUC(X_full, y_full, nfold=10)\n",
    "    model_perf[\"SIMPLE:\" + key] = auc_list"
   ]
  },
  {
   "cell_type": "markdown",
   "metadata": {
    "tags": [
     "5_min"
    ]
   },
   "source": [
    "### Ejercicio 6:\n",
    "\n",
    "Construya un [boxplot](https://towardsdatascience.com/understanding-boxplots-5e2df7bcbd51) que muestre la distribución de las puntuaciones de validación cruzada de cada variable (recuerde que cada variable tiene 10 puntuaciones totales). ¿Qué característica tiene el mayor/menor poder predictivo?"
   ]
  },
  {
   "cell_type": "markdown",
   "metadata": {
    "tags": [
     "ans_st"
    ]
   },
   "source": [
    "**Respuesta.**"
   ]
  },
  {
   "cell_type": "code",
   "execution_count": null,
   "metadata": {},
   "outputs": [],
   "source": [
    "def plot_boxplot_ordered(df_model):\n",
    "    \"\"\"\n",
    "    display a list of boxplot, ordered by the media values\n",
    "    \"\"\"\n",
    "    df = df_model[df_model.median().sort_values().index]\n",
    "    sns.boxplot(x=\"variable\", y=\"value\", data=pd.melt(df), showfliers=False)\n",
    "    plt.xticks(rotation=90)\n",
    "    \n",
    "plt.figure(figsize= (10,5))\n",
    "plot_boxplot_ordered(model_perf)\n",
    "plt.xlabel(\"Predictive Model with a Single Predictive Feature\")\n",
    "plt.ylabel(\"AUC\")"
   ]
  },
  {
   "cell_type": "markdown",
   "metadata": {},
   "source": [
    "-------"
   ]
  },
  {
   "cell_type": "markdown",
   "metadata": {
    "tags": [
     "5_min"
    ]
   },
   "source": [
    "### Ejercicio 7:\n",
    "\n",
    "Considere el modelo que consiste en utilizar *todas* las características numéricas (y ninguna de las características categóricas). Realice un análisis de validación cruzada de 10 veces para determinar si este modelo tiene un mejor rendimiento predictivo que el mejor modelo de una sola característica. Vuelva a utilizar el método de boxplot como hicimos en el Ejercicio 7."
   ]
  },
  {
   "cell_type": "markdown",
   "metadata": {
    "tags": [
     "ans_st"
    ]
   },
   "source": [
    "**Respuesta.**"
   ]
  },
  {
   "cell_type": "markdown",
   "metadata": {},
   "source": [
    "-------"
   ]
  },
  {
   "cell_type": "markdown",
   "metadata": {
    "tags": [
     "25_min"
    ]
   },
   "source": [
    "## Incorporación de variables categóricas"
   ]
  },
  {
   "cell_type": "markdown",
   "metadata": {},
   "source": [
    "El grado de un préstamo (es decir, la característica de grado de préstamo asignada por la LC) no se ha utilizado hasta ahora. A continuación se muestra la distribución de la característica de grado categórico:"
   ]
  },
  {
   "cell_type": "code",
   "execution_count": null,
   "metadata": {},
   "outputs": [],
   "source": [
    "Data.emp_length.value_counts()\n",
    "sns.countplot(x='grade', data = Data) \n",
    "plt.xticks(rotation=90)"
   ]
  },
  {
   "cell_type": "markdown",
   "metadata": {
    "tags": [
     "7_min"
    ]
   },
   "source": [
    "### Ejercicio 8:"
   ]
  },
  {
   "cell_type": "markdown",
   "metadata": {
    "tags": [
     "3_min"
    ]
   },
   "source": [
    "#### 8.1\n",
    "\n",
    "Utilice `pandas.get_dummies()` para transformar esto en su versión codificada 'one-hot."
   ]
  },
  {
   "cell_type": "markdown",
   "metadata": {
    "tags": [
     "ans_st"
    ]
   },
   "source": [
    "**Respuesta.**"
   ]
  },
  {
   "cell_type": "code",
   "execution_count": null,
   "metadata": {},
   "outputs": [],
   "source": []
  },
  {
   "cell_type": "markdown",
   "metadata": {},
   "source": [
    "-------"
   ]
  },
  {
   "cell_type": "markdown",
   "metadata": {
    "tags": [
     "4_min"
    ]
   },
   "source": [
    "#### 8.2\n",
    "\n",
    "Añada esta característica al modelo totalmente numérico de antes e investigue si esto conduce a un aumento significativo de la precisión predictiva."
   ]
  },
  {
   "cell_type": "markdown",
   "metadata": {
    "tags": [
     "ans_st"
    ]
   },
   "source": [
    "**Respuesta.**"
   ]
  },
  {
   "cell_type": "code",
   "execution_count": null,
   "metadata": {},
   "outputs": [],
   "source": []
  },
  {
   "cell_type": "markdown",
   "metadata": {},
   "source": [
    "-------"
   ]
  },
  {
   "cell_type": "markdown",
   "metadata": {
    "tags": [
     "15_min"
    ]
   },
   "source": [
    "### Ejercicio 9\n",
    "\n",
    "Investigue si la variable categórica `job` aporta algún valor predictivo cuando se añade al mejor modelo actual. De nuevo, es posible que desee utilizar un esquema de codificación one-hot."
   ]
  },
  {
   "cell_type": "markdown",
   "metadata": {
    "tags": [
     "ans_st"
    ]
   },
   "source": [
    "**Respuesta.**"
   ]
  },
  {
   "cell_type": "code",
   "execution_count": null,
   "metadata": {},
   "outputs": [],
   "source": [
    "plt.figure(figsize= (20,5))\n",
    "\n",
    "df_job_default = Data[[\"loan_default\", \"job\"]].groupby(\"job\").mean()\n",
    "df_job_default = df_job_default.sort_values(by=\"loan_default\",axis=0, ascending=False)\n",
    "sns.barplot(x=df_job_default.index[:50], \n",
    "            y=df_job_default[\"loan_default\"][:50].values,\n",
    "            orient=\"v\")\n",
    "plt.xticks(rotation=90)\n",
    "\n",
    "plt.ylabel(\"Defaut Probability\")\n",
    "plt.title(\"Default Rate per Employment Type\", fontsize=20, verticalalignment='bottom')"
   ]
  },
  {
   "cell_type": "code",
   "execution_count": null,
   "metadata": {},
   "outputs": [],
   "source": [
    "job_categ = pd.get_dummies(Data['job'], prefix = \"job\", drop_first=True)\n",
    "\n",
    "X_grade_job = pd.concat([X_grade,job_categ],axis=1) \n",
    "\n",
    "\n",
    "X_grade_job.keys()\n",
    "\n",
    "\n",
    "auc_list = cross_validation_AUC(X_grade_job, y_full)\n",
    "model_perf[\"ALL_NUMERICAL_WITH_GRADE_JOB\"] = auc_list\n",
    "\n",
    "plt.figure(figsize= (10,5))\n",
    "plot_boxplot_ordered(model_perf)\n",
    "plt.xlabel(\"Predictive Model with a Single Predictive Feature\")\n",
    "plt.ylabel(\"AUC\")"
   ]
  },
  {
   "cell_type": "markdown",
   "metadata": {},
   "source": [
    "-------"
   ]
  },
  {
   "cell_type": "markdown",
   "metadata": {
    "tags": [
     "5_min"
    ]
   },
   "source": [
    "## Conclusiones\n",
    "\n",
    "En este caso, primero exploramos el conjunto de datos de préstamos y encontramos las asociaciones de una sola variable entre las características disponibles y la tasa de impago. También descubrimos qué características requerían transformaciones (por ejemplo, la transformación logarítmica).\n",
    "\n",
    "Una vez que empezamos a construir modelos, comenzamos con enfoques de regresión logística muy sencillos; estos modelos de referencia eran útiles para evaluar rápidamente el poder predictivo de cada variable individual. A continuación, empleamos enfoques de validación cruzada para construir modelos más complejos, a menudo explotando las interacciones entre las diferentes características. Dado que el conjunto de datos de préstamos contiene un gran número de covariables, el uso de la validación cruzada resultó ser crucial para evitar el exceso de ajuste, elegir el número correcto de características y, en última instancia, elegir un modelo adecuado que equilibre la complejidad con la precisión.\n",
    "\n",
    "La validación cruzada es una técnica robusta y flexible para evaluar el rendimiento predictivo de los modelos estadísticos. Es especialmente útil en entornos de big data en los que el número de características es grande en comparación con el número de observaciones. Cuando se utiliza adecuadamente, la validación cruzada es un método poderoso para elegir un modelo con la complejidad correcta y el mejor rendimiento predictivo. Recuerde que la regresión logística es sólo uno de los muchos algoritmos de clasificación y que los principios en los que se basa la validación cruzada no se limitan sólo a este caso. De hecho, recomendamos encarecidamente utilizar la validación cruzada también para sus modelos de regresión lineal para evitar el sobreajuste."
   ]
  }
 ],
 "metadata": {
  "c1_recart": "7.1.0-57c20131aabc1dc2a8c675852d80a7da",
  "kernelspec": {
   "display_name": "Python 3 (ipykernel)",
   "language": "python",
   "name": "python3"
  },
  "language_info": {
   "codemirror_mode": {
    "name": "ipython",
    "version": 3
   },
   "file_extension": ".py",
   "mimetype": "text/x-python",
   "name": "python",
   "nbconvert_exporter": "python",
   "pygments_lexer": "ipython3",
   "version": "3.11.4"
  }
 },
 "nbformat": 4,
 "nbformat_minor": 2
}
