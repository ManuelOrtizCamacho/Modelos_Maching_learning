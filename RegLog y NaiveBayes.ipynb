{
 "cells": [
  {
   "cell_type": "markdown",
   "metadata": {},
   "source": [
    "# Modelo de predicción para los impagos de préstamos"
   ]
  },
  {
   "cell_type": "code",
   "execution_count": 4,
   "metadata": {},
   "outputs": [],
   "source": [
    "import pandas as pd\n",
    "import numpy  as np\n",
    "import matplotlib.pyplot as plt\n",
    "import seaborn as sns\n",
    "import statsmodels.api as sm\n",
    "\n",
    "from matplotlib import cm\n",
    "from matplotlib.colors import ListedColormap, LinearSegmentedColormap\n",
    "from matplotlib.patches import Patch\n",
    "from scipy.stats import chi2_contingency, norm\n",
    "\n",
    "from sklearn.metrics import roc_curve, auc, accuracy_score # Se  importaron los metodos para hacer la grafia roc\n",
    "from sklearn.model_selection import StratifiedKFold, train_test_split\n",
    "from statsmodels.formula.api import ols "
   ]
  },
  {
   "cell_type": "code",
   "execution_count": 5,
   "metadata": {},
   "outputs": [],
   "source": [
    "df = pd.read_csv('data/Lending_club_cleaned_2.csv',\n",
    "                 dtype = {'loan_status':'category', 'annual_inc':'float',\n",
    "                          'verification_status':'category', 'emp_length':'category',\n",
    "                          'home_ownership':'category', 'int_rate':'object',\n",
    "                          'loan_amnt':'float', 'purpose':'category',\n",
    "                          'term':'category', 'grade':'category'})\n",
    "df['int_rate'] = df['int_rate'].str.rstrip('%').astype('float')"
   ]
  },
  {
   "cell_type": "code",
   "execution_count": 6,
   "metadata": {},
   "outputs": [
    {
     "data": {
      "text/html": [
       "<div>\n",
       "<style scoped>\n",
       "    .dataframe tbody tr th:only-of-type {\n",
       "        vertical-align: middle;\n",
       "    }\n",
       "\n",
       "    .dataframe tbody tr th {\n",
       "        vertical-align: top;\n",
       "    }\n",
       "\n",
       "    .dataframe thead th {\n",
       "        text-align: right;\n",
       "    }\n",
       "</style>\n",
       "<table border=\"1\" class=\"dataframe\">\n",
       "  <thead>\n",
       "    <tr style=\"text-align: right;\">\n",
       "      <th></th>\n",
       "      <th>loan_status</th>\n",
       "      <th>annual_inc</th>\n",
       "      <th>verification_status</th>\n",
       "      <th>emp_length</th>\n",
       "      <th>home_ownership</th>\n",
       "      <th>int_rate</th>\n",
       "      <th>loan_amnt</th>\n",
       "      <th>purpose</th>\n",
       "      <th>term</th>\n",
       "      <th>grade</th>\n",
       "    </tr>\n",
       "  </thead>\n",
       "  <tbody>\n",
       "    <tr>\n",
       "      <th>0</th>\n",
       "      <td>Fully Paid</td>\n",
       "      <td>24000.0</td>\n",
       "      <td>Verified</td>\n",
       "      <td>10+ years</td>\n",
       "      <td>RENT</td>\n",
       "      <td>10.65</td>\n",
       "      <td>5000.0</td>\n",
       "      <td>credit_card</td>\n",
       "      <td>36 months</td>\n",
       "      <td>B</td>\n",
       "    </tr>\n",
       "    <tr>\n",
       "      <th>1</th>\n",
       "      <td>Charged Off</td>\n",
       "      <td>30000.0</td>\n",
       "      <td>Source Verified</td>\n",
       "      <td>&lt; 1 year</td>\n",
       "      <td>RENT</td>\n",
       "      <td>15.27</td>\n",
       "      <td>2500.0</td>\n",
       "      <td>car</td>\n",
       "      <td>60 months</td>\n",
       "      <td>C</td>\n",
       "    </tr>\n",
       "    <tr>\n",
       "      <th>2</th>\n",
       "      <td>Fully Paid</td>\n",
       "      <td>12252.0</td>\n",
       "      <td>Not Verified</td>\n",
       "      <td>10+ years</td>\n",
       "      <td>RENT</td>\n",
       "      <td>15.96</td>\n",
       "      <td>2400.0</td>\n",
       "      <td>small_business</td>\n",
       "      <td>36 months</td>\n",
       "      <td>C</td>\n",
       "    </tr>\n",
       "    <tr>\n",
       "      <th>3</th>\n",
       "      <td>Fully Paid</td>\n",
       "      <td>49200.0</td>\n",
       "      <td>Source Verified</td>\n",
       "      <td>10+ years</td>\n",
       "      <td>RENT</td>\n",
       "      <td>13.49</td>\n",
       "      <td>10000.0</td>\n",
       "      <td>other</td>\n",
       "      <td>36 months</td>\n",
       "      <td>C</td>\n",
       "    </tr>\n",
       "    <tr>\n",
       "      <th>4</th>\n",
       "      <td>Fully Paid</td>\n",
       "      <td>80000.0</td>\n",
       "      <td>Source Verified</td>\n",
       "      <td>1 year</td>\n",
       "      <td>RENT</td>\n",
       "      <td>12.69</td>\n",
       "      <td>3000.0</td>\n",
       "      <td>other</td>\n",
       "      <td>60 months</td>\n",
       "      <td>B</td>\n",
       "    </tr>\n",
       "  </tbody>\n",
       "</table>\n",
       "</div>"
      ],
      "text/plain": [
       "   loan_status  annual_inc verification_status emp_length home_ownership  \\\n",
       "0   Fully Paid     24000.0            Verified  10+ years           RENT   \n",
       "1  Charged Off     30000.0     Source Verified   < 1 year           RENT   \n",
       "2   Fully Paid     12252.0        Not Verified  10+ years           RENT   \n",
       "3   Fully Paid     49200.0     Source Verified  10+ years           RENT   \n",
       "4   Fully Paid     80000.0     Source Verified     1 year           RENT   \n",
       "\n",
       "   int_rate  loan_amnt         purpose        term grade  \n",
       "0     10.65     5000.0     credit_card   36 months     B  \n",
       "1     15.27     2500.0             car   60 months     C  \n",
       "2     15.96     2400.0  small_business   36 months     C  \n",
       "3     13.49    10000.0           other   36 months     C  \n",
       "4     12.69     3000.0           other   60 months     B  "
      ]
     },
     "execution_count": 6,
     "metadata": {},
     "output_type": "execute_result"
    }
   ],
   "source": [
    "df.head()"
   ]
  },
  {
   "cell_type": "markdown",
   "metadata": {
    "tags": [
     "20_min"
    ]
   },
   "source": [
    "## Modelo de regresión logística"
   ]
  },
  {
   "cell_type": "markdown",
   "metadata": {},
   "source": [
    "Haciamos las normalizaciones y caracterizaciones de las variables , y llevamos las a la normalidad"
   ]
  },
  {
   "cell_type": "code",
   "execution_count": 7,
   "metadata": {},
   "outputs": [
    {
     "name": "stdout",
     "output_type": "stream",
     "text": [
      "Optimization terminated successfully.\n",
      "         Current function value: 0.378195\n",
      "         Iterations 7\n"
     ]
    }
   ],
   "source": [
    "# normalizar y configurar los datos\n",
    "df_log = pd.concat([(df['loan_amnt'] - df['loan_amnt'].mean())/df['loan_amnt'].std(),\n",
    "                     (df['int_rate'] - df['int_rate'].mean())/df['int_rate'].std(),\n",
    "                     (df['annual_inc'] - df['annual_inc'].mean())/df['annual_inc'].std(),\n",
    "                     pd.get_dummies(df['home_ownership'], prefix='home', drop_first=True).astype(int),  # son variables categoricas para volverlo decodificar. \n",
    "                     pd.get_dummies(df['purpose'], prefix='purpose', drop_first=True).astype(int),      # son variables categoricas \n",
    "                     pd.get_dummies(df['grade'], prefix='grade', drop_first=True).astype(int)], axis=1) # son variables categoricas \n",
    "df_log['verification_status'] = df['verification_status'].cat.codes # tiene un orden \n",
    "df_log['emp_length'] = df['emp_length'].cat.codes                   # tiene un orden que va mejor que la otra variable \n",
    "df_log['term'] = df['term'].cat.codes\n",
    "df_log['Intercept'] = 1\n",
    "\n",
    "# ajustar el modelo de regresión logística\n",
    "logit_full1 = sm.Logit(df['loan_status'].cat.codes, df_log) # aqui es para logista usa la logit \n",
    "logit_full1_res = logit_full1.fit()                         #\n",
    "predict_withvs = logit_full1_res.predict(df_log)\n",
    "# por que se usa cat.codes y otros , usar get_dummies \n",
    "# toca tener encuenta que los dummies es igualdad es decir no es mejor todo es igualdad \n",
    "# toca usar cat.codes tiene un orden natural eso es ordinal "
   ]
  },
  {
   "cell_type": "markdown",
   "metadata": {},
   "source": [
    "Podemos comprobar la curva ROC y el AUC del modelo:"
   ]
  },
  {
   "cell_type": "markdown",
   "metadata": {},
   "source": [
    "Roc , mirar el desempeno en una clasificaicon binaria , caracteristica operativa del recpetor.\n",
    "sirve para medir la medida de desempeno de clasificacion binaria. \n",
    "los ejes la tasa de verdaderos postivos, la tasa de de falso positivo, la lina de es una moneda en el aire , si los modelos estan abajo es perverso \n"
   ]
  },
  {
   "cell_type": "markdown",
   "metadata": {},
   "source": [
    "la cursa se construye el humbral de clasificion , "
   ]
  },
  {
   "cell_type": "markdown",
   "metadata": {},
   "source": [
    "la curva que tenga mayor area bajo la curva sera el mejor modelo"
   ]
  },
  {
   "cell_type": "markdown",
   "metadata": {},
   "source": [
    "https://upload.wikimedia.org/wikipedia/commons/1/13/Roc_curve.svg"
   ]
  },
  {
   "cell_type": "code",
   "execution_count": 8,
   "metadata": {},
   "outputs": [
    {
     "data": {
      "image/png": "[encoded data removed]",
      "text/plain": [
       "<Figure size 640x480 with 1 Axes>"
      ]
     },
     "metadata": {},
     "output_type": "display_data"
    }
   ],
   "source": [
    "#A continuación trazamos la curva ROC:\n",
    "roc_vs = roc_curve(df['loan_status'].cat.codes, predict_withvs) # es el modelo que creamos. de regecion logisticas\n",
    "auc_vs = auc( roc_vs[0], roc_vs[1] ) # enviamos las dos columnas que nos devulve roc \n",
    "\n",
    "plt.figure()\n",
    "line_width = 2\n",
    "plt.plot(roc_vs[0], roc_vs[1], color='darkorange', lw=line_width,\n",
    "         label=f\"ROC based on training data (AUC = {auc_vs:0.2f})\")\n",
    "# graficamos \n",
    "plt.plot([0, 1], [0, 1], color='navy', lw=line_width, linestyle='--', label='Random guess') # es la linea punteada \n",
    "plt.xlim([0.0, 1.0])\n",
    "plt.ylim([0.0, 1.0])\n",
    "plt.xlabel('False Positive Rate')\n",
    "plt.ylabel('True Positive Rate')\n",
    "plt.title('Classification of Defaulters')\n",
    "plt.legend(loc='lower right')\n",
    "plt.show()"
   ]
  },
  {
   "cell_type": "markdown",
   "metadata": {
    "tags": [
     "80_min"
    ]
   },
   "source": [
    "## El clasificador Naive Bayes"
   ]
  },
  {
   "cell_type": "markdown",
   "metadata": {},
   "source": [
    "El clasificador que veremos a continuación se basa en un resultado muy simple pero poderoso en estadística: El teorema de Bayes. Antes de profundizar en el clasificador, necesitaremos algunas nociones muy básicas de probabilidades condicionales. Sin embargo, la idea de cómo funciona el clasificador es muy sencilla:\n",
    "\n",
    "> Dado un cliente con ciertas características, utilizaremos el teorema de Bayes y los datos observados para estimar la probabilidad de que los morosos y los no morosos tengan las mismas características que el cliente. La mayor de estas dos probabilidades determinaría entonces cómo clasificamos al cliente."
   ]
  },
  {
   "cell_type": "markdown",
   "metadata": {
    "tags": [
     "5_min"
    ]
   },
   "source": [
    "### Probabilidad condicional y teorema de Bayes\n",
    "\n",
    "Sean $A$ y $B$ un par de eventos. Por ejemplo, pensemos en $A$ como el suceso de que un cliente sea moroso y en $B$ como el suceso de que se hayan verificado los ingresos del cliente. La **probabilidad condicional** del suceso $A$ dado el suceso $B$ se define como la probabilidad de observar el suceso $A$ siempre que el suceso $B$ ya haya ocurrido. Numéricamente, esto significa:\n",
    "\n",
    "$$\n",
    "\\text{P($A$ given $B$)} =P(A|B)= \\frac{\\text{P($A$ and $B$)}}{\\text{P($B$)}}.\n",
    "$$\n",
    "\n",
    "Por supuesto, no hay nada especial en $A$ o $B$, así que podemos invertirlos en la identidad anterior para obtener:\n",
    "\n",
    "$$\n",
    "\\text{P($B$ given $A$)} = \\frac{\\text{P($B$ and $A$)}}{\\text{P($A$)}}.\n",
    "$$\n",
    "\n",
    "Observe que los numeradores del lado derecho de ambas ecuaciones son idénticos. Por lo tanto, podemos igualarlas y sustituir el resto de cada identidad para obtener:\n",
    "\n",
    "$$\n",
    "\\begin{align}\n",
    "    \\text{P($A$ given $B$)}\\text{P($B$)} &= \\text{P($B$ given $A$)}\\text{P($A$)} \\\\\n",
    "    \\\\\n",
    "    \\Rightarrow\\text{P($A$ given $B$)} &= \\frac{\\text{P($B$ given $A$)}\\text{P($A$)}} {\\text{P($B$)}}\n",
    "\\end{align}\n",
    "$$\n",
    "\n",
    "Este es el famoso **teorema de Bayes**, sobre el que se construye el clasificador Naive Bayes."
   ]
  },
  {
   "cell_type": "markdown",
   "metadata": {
    "tags": [
     "15_min"
    ]
   },
   "source": [
    "### Ejercicio:\n"
   ]
  },
  {
   "cell_type": "markdown",
   "metadata": {
    "tags": [
     "4_min"
    ]
   },
   "source": [
    "#### 2.1\n",
    "\n",
    "Utilice los datos para estimar los valores de $\\text{P(moroso)}$ y $\\text{P(no moroso)}$."
   ]
  },
  {
   "cell_type": "markdown",
   "metadata": {
    "tags": [
     "ans_st"
    ]
   },
   "source": [
    "**Respuesta**"
   ]
  },
  {
   "cell_type": "code",
   "execution_count": 9,
   "metadata": {},
   "outputs": [
    {
     "data": {
      "text/html": [
       "<div>\n",
       "<style scoped>\n",
       "    .dataframe tbody tr th:only-of-type {\n",
       "        vertical-align: middle;\n",
       "    }\n",
       "\n",
       "    .dataframe tbody tr th {\n",
       "        vertical-align: top;\n",
       "    }\n",
       "\n",
       "    .dataframe thead th {\n",
       "        text-align: right;\n",
       "    }\n",
       "</style>\n",
       "<table border=\"1\" class=\"dataframe\">\n",
       "  <thead>\n",
       "    <tr style=\"text-align: right;\">\n",
       "      <th></th>\n",
       "      <th>loan_status</th>\n",
       "      <th>annual_inc</th>\n",
       "      <th>verification_status</th>\n",
       "      <th>emp_length</th>\n",
       "      <th>home_ownership</th>\n",
       "      <th>int_rate</th>\n",
       "      <th>loan_amnt</th>\n",
       "      <th>purpose</th>\n",
       "      <th>term</th>\n",
       "      <th>grade</th>\n",
       "    </tr>\n",
       "  </thead>\n",
       "  <tbody>\n",
       "    <tr>\n",
       "      <th>0</th>\n",
       "      <td>Fully Paid</td>\n",
       "      <td>24000.0</td>\n",
       "      <td>Verified</td>\n",
       "      <td>10+ years</td>\n",
       "      <td>RENT</td>\n",
       "      <td>10.65</td>\n",
       "      <td>5000.0</td>\n",
       "      <td>credit_card</td>\n",
       "      <td>36 months</td>\n",
       "      <td>B</td>\n",
       "    </tr>\n",
       "    <tr>\n",
       "      <th>1</th>\n",
       "      <td>Charged Off</td>\n",
       "      <td>30000.0</td>\n",
       "      <td>Source Verified</td>\n",
       "      <td>&lt; 1 year</td>\n",
       "      <td>RENT</td>\n",
       "      <td>15.27</td>\n",
       "      <td>2500.0</td>\n",
       "      <td>car</td>\n",
       "      <td>60 months</td>\n",
       "      <td>C</td>\n",
       "    </tr>\n",
       "    <tr>\n",
       "      <th>2</th>\n",
       "      <td>Fully Paid</td>\n",
       "      <td>12252.0</td>\n",
       "      <td>Not Verified</td>\n",
       "      <td>10+ years</td>\n",
       "      <td>RENT</td>\n",
       "      <td>15.96</td>\n",
       "      <td>2400.0</td>\n",
       "      <td>small_business</td>\n",
       "      <td>36 months</td>\n",
       "      <td>C</td>\n",
       "    </tr>\n",
       "    <tr>\n",
       "      <th>3</th>\n",
       "      <td>Fully Paid</td>\n",
       "      <td>49200.0</td>\n",
       "      <td>Source Verified</td>\n",
       "      <td>10+ years</td>\n",
       "      <td>RENT</td>\n",
       "      <td>13.49</td>\n",
       "      <td>10000.0</td>\n",
       "      <td>other</td>\n",
       "      <td>36 months</td>\n",
       "      <td>C</td>\n",
       "    </tr>\n",
       "    <tr>\n",
       "      <th>4</th>\n",
       "      <td>Fully Paid</td>\n",
       "      <td>80000.0</td>\n",
       "      <td>Source Verified</td>\n",
       "      <td>1 year</td>\n",
       "      <td>RENT</td>\n",
       "      <td>12.69</td>\n",
       "      <td>3000.0</td>\n",
       "      <td>other</td>\n",
       "      <td>60 months</td>\n",
       "      <td>B</td>\n",
       "    </tr>\n",
       "    <tr>\n",
       "      <th>...</th>\n",
       "      <td>...</td>\n",
       "      <td>...</td>\n",
       "      <td>...</td>\n",
       "      <td>...</td>\n",
       "      <td>...</td>\n",
       "      <td>...</td>\n",
       "      <td>...</td>\n",
       "      <td>...</td>\n",
       "      <td>...</td>\n",
       "      <td>...</td>\n",
       "    </tr>\n",
       "    <tr>\n",
       "      <th>38700</th>\n",
       "      <td>Fully Paid</td>\n",
       "      <td>110000.0</td>\n",
       "      <td>Not Verified</td>\n",
       "      <td>4 years</td>\n",
       "      <td>MORTGAGE</td>\n",
       "      <td>8.07</td>\n",
       "      <td>2500.0</td>\n",
       "      <td>home_improvement</td>\n",
       "      <td>36 months</td>\n",
       "      <td>A</td>\n",
       "    </tr>\n",
       "    <tr>\n",
       "      <th>38701</th>\n",
       "      <td>Fully Paid</td>\n",
       "      <td>18000.0</td>\n",
       "      <td>Not Verified</td>\n",
       "      <td>3 years</td>\n",
       "      <td>RENT</td>\n",
       "      <td>10.28</td>\n",
       "      <td>8500.0</td>\n",
       "      <td>credit_card</td>\n",
       "      <td>36 months</td>\n",
       "      <td>C</td>\n",
       "    </tr>\n",
       "    <tr>\n",
       "      <th>38702</th>\n",
       "      <td>Fully Paid</td>\n",
       "      <td>100000.0</td>\n",
       "      <td>Not Verified</td>\n",
       "      <td>&lt; 1 year</td>\n",
       "      <td>MORTGAGE</td>\n",
       "      <td>8.07</td>\n",
       "      <td>5000.0</td>\n",
       "      <td>debt_consolidation</td>\n",
       "      <td>36 months</td>\n",
       "      <td>A</td>\n",
       "    </tr>\n",
       "    <tr>\n",
       "      <th>38703</th>\n",
       "      <td>Fully Paid</td>\n",
       "      <td>200000.0</td>\n",
       "      <td>Not Verified</td>\n",
       "      <td>&lt; 1 year</td>\n",
       "      <td>MORTGAGE</td>\n",
       "      <td>7.43</td>\n",
       "      <td>5000.0</td>\n",
       "      <td>other</td>\n",
       "      <td>36 months</td>\n",
       "      <td>A</td>\n",
       "    </tr>\n",
       "    <tr>\n",
       "      <th>38704</th>\n",
       "      <td>Fully Paid</td>\n",
       "      <td>22000.0</td>\n",
       "      <td>Not Verified</td>\n",
       "      <td>&lt; 1 year</td>\n",
       "      <td>OWN</td>\n",
       "      <td>13.75</td>\n",
       "      <td>7500.0</td>\n",
       "      <td>debt_consolidation</td>\n",
       "      <td>36 months</td>\n",
       "      <td>E</td>\n",
       "    </tr>\n",
       "  </tbody>\n",
       "</table>\n",
       "<p>38705 rows × 10 columns</p>\n",
       "</div>"
      ],
      "text/plain": [
       "       loan_status  annual_inc verification_status emp_length home_ownership  \\\n",
       "0       Fully Paid     24000.0            Verified  10+ years           RENT   \n",
       "1      Charged Off     30000.0     Source Verified   < 1 year           RENT   \n",
       "2       Fully Paid     12252.0        Not Verified  10+ years           RENT   \n",
       "3       Fully Paid     49200.0     Source Verified  10+ years           RENT   \n",
       "4       Fully Paid     80000.0     Source Verified     1 year           RENT   \n",
       "...            ...         ...                 ...        ...            ...   \n",
       "38700   Fully Paid    110000.0        Not Verified    4 years       MORTGAGE   \n",
       "38701   Fully Paid     18000.0        Not Verified    3 years           RENT   \n",
       "38702   Fully Paid    100000.0        Not Verified   < 1 year       MORTGAGE   \n",
       "38703   Fully Paid    200000.0        Not Verified   < 1 year       MORTGAGE   \n",
       "38704   Fully Paid     22000.0        Not Verified   < 1 year            OWN   \n",
       "\n",
       "       int_rate  loan_amnt             purpose        term grade  \n",
       "0         10.65     5000.0         credit_card   36 months     B  \n",
       "1         15.27     2500.0                 car   60 months     C  \n",
       "2         15.96     2400.0      small_business   36 months     C  \n",
       "3         13.49    10000.0               other   36 months     C  \n",
       "4         12.69     3000.0               other   60 months     B  \n",
       "...         ...        ...                 ...         ...   ...  \n",
       "38700      8.07     2500.0    home_improvement   36 months     A  \n",
       "38701     10.28     8500.0         credit_card   36 months     C  \n",
       "38702      8.07     5000.0  debt_consolidation   36 months     A  \n",
       "38703      7.43     5000.0               other   36 months     A  \n",
       "38704     13.75     7500.0  debt_consolidation   36 months     E  \n",
       "\n",
       "[38705 rows x 10 columns]"
      ]
     },
     "execution_count": 9,
     "metadata": {},
     "output_type": "execute_result"
    }
   ],
   "source": [
    "df"
   ]
  },
  {
   "cell_type": "code",
   "execution_count": 10,
   "metadata": {
    "tags": [
     "ans_cell"
    ]
   },
   "outputs": [
    {
     "data": {
      "text/plain": [
       "loan_status\n",
       "Fully Paid     0.85945\n",
       "Charged Off    0.14055\n",
       "Name: proportion, dtype: float64"
      ]
     },
     "execution_count": 10,
     "metadata": {},
     "output_type": "execute_result"
    }
   ],
   "source": [
    "#total=df[\"loan_status\"].count()\n",
    "df[\"loan_status\"].value_counts('Fully Paid')\n"
   ]
  },
  {
   "cell_type": "code",
   "execution_count": 11,
   "metadata": {},
   "outputs": [],
   "source": [
    "x=df[\"loan_status\"].value_counts(normalize=True)"
   ]
  },
  {
   "cell_type": "code",
   "execution_count": 12,
   "metadata": {},
   "outputs": [
    {
     "data": {
      "text/plain": [
       "0.8594496835034233"
      ]
     },
     "execution_count": 12,
     "metadata": {},
     "output_type": "execute_result"
    }
   ],
   "source": [
    "x[0]"
   ]
  },
  {
   "cell_type": "markdown",
   "metadata": {},
   "source": [
    "P(defaulter)=0.141\n",
    "\n",
    "P(non-defaulter)=0.859"
   ]
  },
  {
   "cell_type": "markdown",
   "metadata": {
    "tags": [
     "4_min"
    ]
   },
   "source": [
    "#### 2.2\n",
    "\n",
    "Utiliza la definición de probabilidad condicional y los datos para estimar las probabilidades\n",
    "\n",
    "$$\n",
    "\\text{P(ingresos verificados dado el moroso) y P(ingresos verificados dado el no moroso)}\n",
    "$$\n"
   ]
  },
  {
   "cell_type": "markdown",
   "metadata": {
    "tags": [
     "ans_st"
    ]
   },
   "source": [
    "**Respuesta**"
   ]
  },
  {
   "cell_type": "code",
   "execution_count": 13,
   "metadata": {
    "tags": [
     "ans_cell"
    ]
   },
   "outputs": [
    {
     "data": {
      "text/plain": [
       "0.3129415301367804"
      ]
     },
     "execution_count": 13,
     "metadata": {},
     "output_type": "execute_result"
    }
   ],
   "source": [
    "#df['verification_status']\n",
    "len(df[(df['loan_status'] == 'Fully Paid') & (df['verification_status'] == 'Verified')])/len((df[df['loan_status'] == 'Fully Paid']))\n"
   ]
  },
  {
   "cell_type": "code",
   "execution_count": 14,
   "metadata": {},
   "outputs": [
    {
     "data": {
      "text/plain": [
       "0.3634191176470588"
      ]
     },
     "execution_count": 14,
     "metadata": {},
     "output_type": "execute_result"
    }
   ],
   "source": [
    "len(df[(df['loan_status'] == 'Charged Off') & (df['verification_status'] == 'Verified')])/len((df[df['loan_status'] == 'Charged Off']))"
   ]
  },
  {
   "cell_type": "markdown",
   "metadata": {},
   "source": [
    "P(income verified given defaulter)=0.363\n",
    "\n",
    "P(income verified given non-defaulter)=0.313"
   ]
  },
  {
   "cell_type": "markdown",
   "metadata": {
    "tags": [
     "10_min"
    ]
   },
   "source": [
    "### Introducción al algoritmo"
   ]
  },
  {
   "cell_type": "markdown",
   "metadata": {},
   "source": [
    "### ¿Por qué el clasificador es \"ingenuo\"?\n",
    "\n",
    "Necesitamos muchas muestras para poder estimar $\\text{P(covariables=valores dados por defecto)}$ para todos los $\\text{valores}$ posibles utilizando proporciones observadas. Para evitar este problema, el clasificador Naive Bayes asume que *todas las covariables son independientes cuando se condicionan al resultado*. Esta suposición puede no ser nunca cierta en el mundo real, por lo que el método se llama \"ingenuo\". Sin embargo, en la práctica no suele suponer un gran obstáculo para la herramienta y proporciona resultados bastante potentes la mayor parte del tiempo.\n",
    "\n",
    "En nuestro caso, el supuesto implica que dentro de los morosos/no morosos, todas las covariables se distribuyen de forma independiente:\n",
    "\n",
    "$$\n",
    "\\text{P(covariables=valores dado el no moroso)} = \\text{P(covariable}_1\\text{=valor}_1\\text{ dado el no moroso)}\\times\\cdots\\times\\text{P(covariable}_p\\text{=valor}_p\\text{ dado el no moroso)}\n",
    "$$\n",
    "\n",
    "Aquí asumimos que hay $p$ covariables en total."
   ]
  },
  {
   "cell_type": "markdown",
   "metadata": {
    "tags": [
     "30_min"
    ]
   },
   "source": [
    "## Implementación del clasificador"
   ]
  },
  {
   "cell_type": "markdown",
   "metadata": {
    "tags": [
     "10_min"
    ]
   },
   "source": [
    "### Usando `sklearn.MultinomialNB` y `sklearn.GaussianNB`"
   ]
  },
  {
   "cell_type": "markdown",
   "metadata": {},
   "source": [
    "Una implementación del clasificador Naive Bayes basada en variables mixtas categóricas-continuas no está implementada en `sklearn` por defecto. Sin embargo, por los supuestos de independencia *ingenua* de nuestro clasificador, es posible utilizar las implementaciones para variables discretas (`sklearn.MultinomialNB`) y continuas (`sklearn.GaussianNB`) como sigue. Supongamos, para simplificar, que queremos estimar:\n",
    "    \n",
    "$$\n",
    "\\text{P(non-defaulter given loan\\_amnt, term)}\n",
    "$$\n",
    "\n",
    "\n",
    "usando\n",
    "\n",
    "$$\n",
    "\\begin{equation}\n",
    "\\begin{aligned}\n",
    "\\text{P(non-defaulter given loan\\_amnt)} \\quad \\text{and} \\quad \\text{P(non-defaulter given term).}\n",
    "\\end{aligned}\n",
    "\\end{equation}\n",
    "$$\n",
    "\n",
    "Por el teorema de Bayes tenemos\n",
    "\n",
    "$$\n",
    "\\begin{aligned}\n",
    "\\text{P(non-defaulter given loan\\_amnt, term)} &= \\frac{\\text{P(term, loan\\_amnt given non-defaulter)P(non-defaulter)}}{\\text{P(term, loan\\_amnt)}}, \\\\\n",
    "&\\approx \\frac{\\text{P(term given non-defaulter)P(loan\\_amnt given non-defaulter)P(non-defaulter)}}{\\text{P(term)P(loan\\_amnt)}}, \\\\\n",
    "&= \\text{P(non-defaulter)} \\frac{\\text{P(term given non-defaulter)}}{\\text{P(term)}} \\frac{\\text{P(loan\\_amnt given non-defaulter)}}{\\text{P(loan\\_amnt)}}, \\\\\n",
    "&= \\frac{\\text{P(non-defaulter given term)} \\text{P(non-defaulter given loan\\_amnt)}}{\\text{P(non-defaulter)}}\n",
    "\\end{aligned}\n",
    "$$\n",
    "\n",
    "\n",
    "\n",
    "En palabras más sencillas, el supuesto de independencia ingenua nos permite calcular las probabilidades ajustando primero un modelo para las variables discretas y las continuas por separado. A continuación, multiplicamos estos valores y los dividimos por las probabilidades a priori $\\text{P(no incumplidor)}$ y $\\text{P(incumplidor)}$.\n",
    "\n",
    "Como ejemplo, vamos a ajustar un clasificador de Naive Bayes utilizando las covariables `term`, `verification_status`, `loan_amnt_sqrt` y `annual_inc_log`:"
   ]
  },
  {
   "cell_type": "code",
   "execution_count": 15,
   "metadata": {},
   "outputs": [],
   "source": [
    "df['annual_inc_log'] = np.log10(df['annual_inc'])\n",
    "df['loan_amnt_sqrt'] = np.sqrt(df['loan_amnt'])\n",
    "p_def = 0.141"
   ]
  },
  {
   "cell_type": "code",
   "execution_count": 16,
   "metadata": {},
   "outputs": [
    {
     "data": {
      "text/plain": [
       "0        0.865864\n",
       "1        0.817663\n",
       "2        0.803235\n",
       "3        0.877488\n",
       "4        0.855876\n",
       "           ...   \n",
       "38700    0.896243\n",
       "38701    0.821499\n",
       "38702    0.895022\n",
       "38703    0.915678\n",
       "38704    0.833035\n",
       "Name: nb_predict_proba, Length: 38705, dtype: float64"
      ]
     },
     "execution_count": 16,
     "metadata": {},
     "output_type": "execute_result"
    }
   ],
   "source": [
    "from sklearn.naive_bayes import GaussianNB, MultinomialNB\n",
    "\n",
    "df_nb=df.copy()\n",
    "\n",
    "#Codificar las variables categóricas:\n",
    "for var in ['loan_status', 'term','verification_status']:\n",
    "    df_nb[var]=df_nb[var].cat.codes\n",
    "\n",
    "#Ajustamos el modelo para las variables continuas\n",
    "y=df_nb['loan_status']\n",
    "Xcont=df_nb[['annual_inc_log','loan_amnt_sqrt']]\n",
    "gnb = GaussianNB()\n",
    "cont_probas=gnb.fit(Xcont, y).predict_proba(Xcont)\n",
    "\n",
    "#Ajustamos el modelo para variables categóricas\n",
    "Xcat=df_nb[['term','verification_status']]\n",
    "mnb=MultinomialNB()\n",
    "cat_probas=mnb.fit(Xcat, y).predict_proba(Xcat)\n",
    "\n",
    "\n",
    "#multiplicar las probabilidades y dividirlas por los priores\n",
    "nb_probas=np.multiply(cont_probas, cat_probas)/np.array([p_def, 1-p_def])\n",
    "\n",
    "#añadir las probabilidades al data frame\n",
    "df_nb['nb_predict_proba']=nb_probas[:,1]\n",
    "df_nb['nb_predict_proba']"
   ]
  },
  {
   "cell_type": "code",
   "execution_count": 17,
   "metadata": {},
   "outputs": [
    {
     "data": {
      "text/plain": [
       "array([[0.12962354, 0.86586428],\n",
       "       [0.18536848, 0.81766342],\n",
       "       [0.1965561 , 0.8032353 ],\n",
       "       ...,\n",
       "       [0.10510967, 0.89502233],\n",
       "       [0.0845303 , 0.91567835],\n",
       "       [0.16686741, 0.83303457]])"
      ]
     },
     "execution_count": 17,
     "metadata": {},
     "output_type": "execute_result"
    }
   ],
   "source": [
    "np.multiply(cont_probas, cat_probas)/np.array([p_def, 1-p_def])"
   ]
  },
  {
   "cell_type": "code",
   "execution_count": 18,
   "metadata": {},
   "outputs": [
    {
     "data": {
      "image/png": "[encoded data removed]",
      "text/plain": [
       "<Figure size 640x480 with 1 Axes>"
      ]
     },
     "metadata": {},
     "output_type": "display_data"
    }
   ],
   "source": [
    "roc_nb= roc_curve(df_nb['loan_status'], df_nb['nb_predict_proba'])\n",
    "auc_nb= auc( roc_nb[0], roc_nb[1] )\n",
    "\n",
    "plt.figure()\n",
    "line_width = 2\n",
    "plt.plot(roc_nb[0], roc_nb[1], color='darkorange', lw=line_width,\n",
    "         label=f\"ROC based on NB model (AUC = {auc_nb:0.2f})\")\n",
    "plt.plot(roc_vs[0], roc_vs[1], color='red', lw=line_width,\n",
    "         label=f\"ROC based on training data (AUC = {auc_vs:0.2f})\")\n",
    "\n",
    "plt.plot([0, 1], [0, 1], color='navy', lw=line_width, linestyle='--', label='Random guess')\n",
    "plt.xlim([0.0, 1.0])\n",
    "plt.ylim([0.0, 1.05])\n",
    "plt.xlabel('False Positive Rate')\n",
    "plt.ylabel('True Positive Rate')\n",
    "plt.title('Classification of Defaulters')\n",
    "plt.legend(loc='lower right')\n",
    "plt.show()"
   ]
  },
  {
   "cell_type": "code",
   "execution_count": null,
   "metadata": {},
   "outputs": [],
   "source": []
  },
  {
   "cell_type": "markdown",
   "metadata": {},
   "source": []
  }
 ],
 "metadata": {
  "c1_recart": "7.1.0-57c20131aabc1dc2a8c675852d80a7da",
  "kernelspec": {
   "display_name": "Python 3 (ipykernel)",
   "language": "python",
   "name": "python3"
  },
  "language_info": {
   "codemirror_mode": {
    "name": "ipython",
    "version": 3
   },
   "file_extension": ".py",
   "mimetype": "text/x-python",
   "name": "python",
   "nbconvert_exporter": "python",
   "pygments_lexer": "ipython3",
   "version": "3.11.4"
  }
 },
 "nbformat": 4,
 "nbformat_minor": 2
}
