{
 "cells": [
  {
   "cell_type": "markdown",
   "metadata": {
    "tags": [
     "125_min"
    ]
   },
   "source": [
    "# ¿Qué factores impulsan la discriminación salarial entre hombres y mujeres en su organización?"
   ]
  },
  {
   "cell_type": "markdown",
   "metadata": {
    "tags": [
     "5_min"
    ]
   },
   "source": [
    "El departamento de recursos humanos se ha puesto en contacto con usted como experto en aprendizaje automático para que les ayude a encontrar si existe una discriminicación salarial entre hombres y mujeres y encontrar cual es la razón. Para esto le ha proporcionado una base de datos de empleados que contiene información sobre diversos atributos como el rendimiento, la educación, los ingresos, la antigüedad, etc."
   ]
  },
  {
   "cell_type": "markdown",
   "metadata": {
    "tags": [
     "4_min"
    ]
   },
   "source": [
    "## Exploración de datos\n",
    "\n",
    "Variables:\n",
    "\n",
    "1. **job_title**: the title of the job (e.g. “Graphic Designer”, “Software Engineer”, etc)\n",
    "2. **age_years**: age\n",
    "3. **performance_score**: on a scale of 0 to 100, 0 being the lowest and 100 being the highest\n",
    "4. **education**: different levels of education (e.g. \"College\", \"PhD\", \"Masters\", \"Highschool\")\n",
    "5. **seniority_years**: years of seniority\n",
    "6. **pay_yearly**: pay in dollars\n",
    "7. **male_female**: male or female\n",
    "\n",
    "Hay 241 hombres y 222 mujeres en este conjunto de datos, un total de 463 personas."
   ]
  },
  {
   "cell_type": "markdown",
   "metadata": {
    "tags": [
     "2_min"
    ]
   },
   "source": [
    "###  Ejercicio 1\n",
    "\n",
    "Realizar una visualización que le permita comparar la remuneración entre hombres y mujeres."
   ]
  },
  {
   "cell_type": "code",
   "execution_count": 3,
   "metadata": {},
   "outputs": [],
   "source": [
    "import pandas as pd\n",
    "import matplotlib.pyplot as plt\n",
    "\n",
    "\n",
    "data = pd.read_csv(\"data/company_dataset.csv\")"
   ]
  },
  {
   "cell_type": "code",
   "execution_count": 2,
   "metadata": {},
   "outputs": [
    {
     "data": {
      "text/html": [
       "<div>\n",
       "<style scoped>\n",
       "    .dataframe tbody tr th:only-of-type {\n",
       "        vertical-align: middle;\n",
       "    }\n",
       "\n",
       "    .dataframe tbody tr th {\n",
       "        vertical-align: top;\n",
       "    }\n",
       "\n",
       "    .dataframe thead th {\n",
       "        text-align: right;\n",
       "    }\n",
       "</style>\n",
       "<table border=\"1\" class=\"dataframe\">\n",
       "  <thead>\n",
       "    <tr style=\"text-align: right;\">\n",
       "      <th></th>\n",
       "      <th>job_title</th>\n",
       "      <th>age_years</th>\n",
       "      <th>performance_score</th>\n",
       "      <th>education</th>\n",
       "      <th>seniority_years</th>\n",
       "      <th>pay_yearly</th>\n",
       "      <th>male_female</th>\n",
       "    </tr>\n",
       "  </thead>\n",
       "  <tbody>\n",
       "    <tr>\n",
       "      <th>0</th>\n",
       "      <td>Project Manager</td>\n",
       "      <td>34</td>\n",
       "      <td>33.33</td>\n",
       "      <td>High School</td>\n",
       "      <td>4</td>\n",
       "      <td>118503</td>\n",
       "      <td>M</td>\n",
       "    </tr>\n",
       "    <tr>\n",
       "      <th>1</th>\n",
       "      <td>Marketing associate</td>\n",
       "      <td>66</td>\n",
       "      <td>16.67</td>\n",
       "      <td>High School</td>\n",
       "      <td>3</td>\n",
       "      <td>129393</td>\n",
       "      <td>M</td>\n",
       "    </tr>\n",
       "    <tr>\n",
       "      <th>2</th>\n",
       "      <td>Marketing associate</td>\n",
       "      <td>51</td>\n",
       "      <td>50.00</td>\n",
       "      <td>Masters</td>\n",
       "      <td>8</td>\n",
       "      <td>139440</td>\n",
       "      <td>M</td>\n",
       "    </tr>\n",
       "    <tr>\n",
       "      <th>3</th>\n",
       "      <td>Sales representative</td>\n",
       "      <td>26</td>\n",
       "      <td>16.67</td>\n",
       "      <td>Masters</td>\n",
       "      <td>3</td>\n",
       "      <td>118191</td>\n",
       "      <td>F</td>\n",
       "    </tr>\n",
       "    <tr>\n",
       "      <th>4</th>\n",
       "      <td>Account executive</td>\n",
       "      <td>36</td>\n",
       "      <td>50.00</td>\n",
       "      <td>PhD</td>\n",
       "      <td>4</td>\n",
       "      <td>77717</td>\n",
       "      <td>M</td>\n",
       "    </tr>\n",
       "    <tr>\n",
       "      <th>...</th>\n",
       "      <td>...</td>\n",
       "      <td>...</td>\n",
       "      <td>...</td>\n",
       "      <td>...</td>\n",
       "      <td>...</td>\n",
       "      <td>...</td>\n",
       "      <td>...</td>\n",
       "    </tr>\n",
       "    <tr>\n",
       "      <th>458</th>\n",
       "      <td>Dog trainer</td>\n",
       "      <td>59</td>\n",
       "      <td>100.00</td>\n",
       "      <td>PhD</td>\n",
       "      <td>9</td>\n",
       "      <td>120852</td>\n",
       "      <td>M</td>\n",
       "    </tr>\n",
       "    <tr>\n",
       "      <th>459</th>\n",
       "      <td>Dog trainer</td>\n",
       "      <td>40</td>\n",
       "      <td>66.67</td>\n",
       "      <td>College</td>\n",
       "      <td>8</td>\n",
       "      <td>96368</td>\n",
       "      <td>F</td>\n",
       "    </tr>\n",
       "    <tr>\n",
       "      <th>460</th>\n",
       "      <td>Sales representative</td>\n",
       "      <td>58</td>\n",
       "      <td>33.33</td>\n",
       "      <td>College</td>\n",
       "      <td>7</td>\n",
       "      <td>112027</td>\n",
       "      <td>F</td>\n",
       "    </tr>\n",
       "    <tr>\n",
       "      <th>461</th>\n",
       "      <td>Dog trainer</td>\n",
       "      <td>53</td>\n",
       "      <td>83.33</td>\n",
       "      <td>PhD</td>\n",
       "      <td>5</td>\n",
       "      <td>89330</td>\n",
       "      <td>F</td>\n",
       "    </tr>\n",
       "    <tr>\n",
       "      <th>462</th>\n",
       "      <td>Web Designer</td>\n",
       "      <td>41</td>\n",
       "      <td>50.00</td>\n",
       "      <td>College</td>\n",
       "      <td>3</td>\n",
       "      <td>85458</td>\n",
       "      <td>F</td>\n",
       "    </tr>\n",
       "  </tbody>\n",
       "</table>\n",
       "<p>463 rows × 7 columns</p>\n",
       "</div>"
      ],
      "text/plain": [
       "                job_title  age_years  performance_score    education  \\\n",
       "0         Project Manager         34              33.33  High School   \n",
       "1     Marketing associate         66              16.67  High School   \n",
       "2     Marketing associate         51              50.00      Masters   \n",
       "3    Sales representative         26              16.67      Masters   \n",
       "4       Account executive         36              50.00          PhD   \n",
       "..                    ...        ...                ...          ...   \n",
       "458           Dog trainer         59             100.00          PhD   \n",
       "459           Dog trainer         40              66.67      College   \n",
       "460  Sales representative         58              33.33      College   \n",
       "461           Dog trainer         53              83.33          PhD   \n",
       "462          Web Designer         41              50.00      College   \n",
       "\n",
       "     seniority_years  pay_yearly male_female  \n",
       "0                  4      118503           M  \n",
       "1                  3      129393           M  \n",
       "2                  8      139440           M  \n",
       "3                  3      118191           F  \n",
       "4                  4       77717           M  \n",
       "..               ...         ...         ...  \n",
       "458                9      120852           M  \n",
       "459                8       96368           F  \n",
       "460                7      112027           F  \n",
       "461                5       89330           F  \n",
       "462                3       85458           F  \n",
       "\n",
       "[463 rows x 7 columns]"
      ]
     },
     "execution_count": 2,
     "metadata": {},
     "output_type": "execute_result"
    }
   ],
   "source": [
    "data"
   ]
  },
  {
   "cell_type": "code",
   "execution_count": 44,
   "metadata": {},
   "outputs": [
    {
     "data": {
      "image/png": "[encoded data removed]",
      "text/plain": [
       "<Figure size 640x480 with 1 Axes>"
      ]
     },
     "metadata": {},
     "output_type": "display_data"
    }
   ],
   "source": [
    "# Contar la cantidad de hombres y mujeres en cada trabajo\n",
    "gender_counts = data.pivot_table(index='job_title', columns='male_female', aggfunc='size', fill_value=0)\n",
    "\n",
    "gender_counts.plot(kind='bar', stacked=True)\n",
    "plt.title('Cantidad de Hombres y Mujeres por Trabajo')\n",
    "plt.xlabel('Trabajo')\n",
    "plt.ylabel('Cantidad')\n",
    "plt.xticks(rotation=45)\n",
    "plt.legend(title='Género')\n",
    "plt.tight_layout()\n",
    "plt.show()\n"
   ]
  },
  {
   "cell_type": "markdown",
   "metadata": {},
   "source": [
    "Visualizaciones"
   ]
  },
  {
   "cell_type": "code",
   "execution_count": 4,
   "metadata": {},
   "outputs": [
    {
     "data": {
      "text/plain": [
       "<BarContainer object of 463 artists>"
      ]
     },
     "execution_count": 4,
     "metadata": {},
     "output_type": "execute_result"
    },
    {
     "data": {
      "image/png": "[encoded data removed]",
      "text/plain": [
       "<Figure size 640x480 with 1 Axes>"
      ]
     },
     "metadata": {},
     "output_type": "display_data"
    }
   ],
   "source": [
    "fig, ax = plt.subplots()\n",
    "ax.bar(x = data['male_female'], height = data['pay_yearly'])"
   ]
  },
  {
   "cell_type": "code",
   "execution_count": 13,
   "metadata": {},
   "outputs": [
    {
     "ename": "InvalidIndexError",
     "evalue": "(0      M\n1      M\n2      M\n3      F\n4      M\n      ..\n458    M\n459    F\n460    F\n461    F\n462    F\nName: male_female, Length: 463, dtype: object, 0      118503\n1      129393\n2      139440\n3      118191\n4       77717\n        ...  \n458    120852\n459     96368\n460    112027\n461     89330\n462     85458\nName: pay_yearly, Length: 463, dtype: int64)",
     "output_type": "error",
     "traceback": [
      "\u001b[1;31m---------------------------------------------------------------------------\u001b[0m",
      "\u001b[1;31mTypeError\u001b[0m                                 Traceback (most recent call last)",
      "File \u001b[1;32mc:\\Users\\manue\\AppData\\Local\\Programs\\Python\\Python311\\Lib\\site-packages\\pandas\\core\\indexes\\base.py:3653\u001b[0m, in \u001b[0;36mIndex.get_loc\u001b[1;34m(self, key)\u001b[0m\n\u001b[0;32m   3652\u001b[0m \u001b[38;5;28;01mtry\u001b[39;00m:\n\u001b[1;32m-> 3653\u001b[0m     \u001b[38;5;28;01mreturn\u001b[39;00m \u001b[38;5;28;43mself\u001b[39;49m\u001b[38;5;241;43m.\u001b[39;49m\u001b[43m_engine\u001b[49m\u001b[38;5;241;43m.\u001b[39;49m\u001b[43mget_loc\u001b[49m\u001b[43m(\u001b[49m\u001b[43mcasted_key\u001b[49m\u001b[43m)\u001b[49m\n\u001b[0;32m   3654\u001b[0m \u001b[38;5;28;01mexcept\u001b[39;00m \u001b[38;5;167;01mKeyError\u001b[39;00m \u001b[38;5;28;01mas\u001b[39;00m err:\n",
      "File \u001b[1;32mc:\\Users\\manue\\AppData\\Local\\Programs\\Python\\Python311\\Lib\\site-packages\\pandas\\_libs\\index.pyx:147\u001b[0m, in \u001b[0;36mpandas._libs.index.IndexEngine.get_loc\u001b[1;34m()\u001b[0m\n",
      "File \u001b[1;32mc:\\Users\\manue\\AppData\\Local\\Programs\\Python\\Python311\\Lib\\site-packages\\pandas\\_libs\\index.pyx:153\u001b[0m, in \u001b[0;36mpandas._libs.index.IndexEngine.get_loc\u001b[1;34m()\u001b[0m\n",
      "\u001b[1;31mTypeError\u001b[0m: '(0      M\n1      M\n2      M\n3      F\n4      M\n      ..\n458    M\n459    F\n460    F\n461    F\n462    F\nName: male_female, Length: 463, dtype: object, 0      118503\n1      129393\n2      139440\n3      118191\n4       77717\n        ...  \n458    120852\n459     96368\n460    112027\n461     89330\n462     85458\nName: pay_yearly, Length: 463, dtype: int64)' is an invalid key",
      "\nDuring handling of the above exception, another exception occurred:\n",
      "\u001b[1;31mInvalidIndexError\u001b[0m                         Traceback (most recent call last)",
      "Cell \u001b[1;32mIn[13], line 5\u001b[0m\n\u001b[0;32m      1\u001b[0m variable1 \u001b[38;5;241m=\u001b[39m data[\u001b[38;5;124m'\u001b[39m\u001b[38;5;124mmale_female\u001b[39m\u001b[38;5;124m'\u001b[39m]\n\u001b[0;32m      2\u001b[0m variable2 \u001b[38;5;241m=\u001b[39m data[\u001b[38;5;124m'\u001b[39m\u001b[38;5;124mpay_yearly\u001b[39m\u001b[38;5;124m'\u001b[39m]\n\u001b[1;32m----> 5\u001b[0m plt\u001b[38;5;241m.\u001b[39mboxplot(\u001b[43mdata\u001b[49m\u001b[43m[\u001b[49m\u001b[43mvariable1\u001b[49m\u001b[43m,\u001b[49m\u001b[43mvariable2\u001b[49m\u001b[43m]\u001b[49m)\n",
      "File \u001b[1;32mc:\\Users\\manue\\AppData\\Local\\Programs\\Python\\Python311\\Lib\\site-packages\\pandas\\core\\frame.py:3761\u001b[0m, in \u001b[0;36mDataFrame.__getitem__\u001b[1;34m(self, key)\u001b[0m\n\u001b[0;32m   3759\u001b[0m \u001b[38;5;28;01mif\u001b[39;00m \u001b[38;5;28mself\u001b[39m\u001b[38;5;241m.\u001b[39mcolumns\u001b[38;5;241m.\u001b[39mnlevels \u001b[38;5;241m>\u001b[39m \u001b[38;5;241m1\u001b[39m:\n\u001b[0;32m   3760\u001b[0m     \u001b[38;5;28;01mreturn\u001b[39;00m \u001b[38;5;28mself\u001b[39m\u001b[38;5;241m.\u001b[39m_getitem_multilevel(key)\n\u001b[1;32m-> 3761\u001b[0m indexer \u001b[38;5;241m=\u001b[39m \u001b[38;5;28;43mself\u001b[39;49m\u001b[38;5;241;43m.\u001b[39;49m\u001b[43mcolumns\u001b[49m\u001b[38;5;241;43m.\u001b[39;49m\u001b[43mget_loc\u001b[49m\u001b[43m(\u001b[49m\u001b[43mkey\u001b[49m\u001b[43m)\u001b[49m\n\u001b[0;32m   3762\u001b[0m \u001b[38;5;28;01mif\u001b[39;00m is_integer(indexer):\n\u001b[0;32m   3763\u001b[0m     indexer \u001b[38;5;241m=\u001b[39m [indexer]\n",
      "File \u001b[1;32mc:\\Users\\manue\\AppData\\Local\\Programs\\Python\\Python311\\Lib\\site-packages\\pandas\\core\\indexes\\base.py:3660\u001b[0m, in \u001b[0;36mIndex.get_loc\u001b[1;34m(self, key)\u001b[0m\n\u001b[0;32m   3655\u001b[0m     \u001b[38;5;28;01mraise\u001b[39;00m \u001b[38;5;167;01mKeyError\u001b[39;00m(key) \u001b[38;5;28;01mfrom\u001b[39;00m \u001b[38;5;21;01merr\u001b[39;00m\n\u001b[0;32m   3656\u001b[0m \u001b[38;5;28;01mexcept\u001b[39;00m \u001b[38;5;167;01mTypeError\u001b[39;00m:\n\u001b[0;32m   3657\u001b[0m     \u001b[38;5;66;03m# If we have a listlike key, _check_indexing_error will raise\u001b[39;00m\n\u001b[0;32m   3658\u001b[0m     \u001b[38;5;66;03m#  InvalidIndexError. Otherwise we fall through and re-raise\u001b[39;00m\n\u001b[0;32m   3659\u001b[0m     \u001b[38;5;66;03m#  the TypeError.\u001b[39;00m\n\u001b[1;32m-> 3660\u001b[0m     \u001b[38;5;28;43mself\u001b[39;49m\u001b[38;5;241;43m.\u001b[39;49m\u001b[43m_check_indexing_error\u001b[49m\u001b[43m(\u001b[49m\u001b[43mkey\u001b[49m\u001b[43m)\u001b[49m\n\u001b[0;32m   3661\u001b[0m     \u001b[38;5;28;01mraise\u001b[39;00m\n",
      "File \u001b[1;32mc:\\Users\\manue\\AppData\\Local\\Programs\\Python\\Python311\\Lib\\site-packages\\pandas\\core\\indexes\\base.py:5737\u001b[0m, in \u001b[0;36mIndex._check_indexing_error\u001b[1;34m(self, key)\u001b[0m\n\u001b[0;32m   5733\u001b[0m \u001b[38;5;28;01mdef\u001b[39;00m \u001b[38;5;21m_check_indexing_error\u001b[39m(\u001b[38;5;28mself\u001b[39m, key):\n\u001b[0;32m   5734\u001b[0m     \u001b[38;5;28;01mif\u001b[39;00m \u001b[38;5;129;01mnot\u001b[39;00m is_scalar(key):\n\u001b[0;32m   5735\u001b[0m         \u001b[38;5;66;03m# if key is not a scalar, directly raise an error (the code below\u001b[39;00m\n\u001b[0;32m   5736\u001b[0m         \u001b[38;5;66;03m# would convert to numpy arrays and raise later any way) - GH29926\u001b[39;00m\n\u001b[1;32m-> 5737\u001b[0m         \u001b[38;5;28;01mraise\u001b[39;00m InvalidIndexError(key)\n",
      "\u001b[1;31mInvalidIndexError\u001b[0m: (0      M\n1      M\n2      M\n3      F\n4      M\n      ..\n458    M\n459    F\n460    F\n461    F\n462    F\nName: male_female, Length: 463, dtype: object, 0      118503\n1      129393\n2      139440\n3      118191\n4       77717\n        ...  \n458    120852\n459     96368\n460    112027\n461     89330\n462     85458\nName: pay_yearly, Length: 463, dtype: int64)"
     ]
    }
   ],
   "source": [
    "variable1 = data['male_female']\n",
    "variable2 = data['pay_yearly']\n",
    "\n",
    "\n",
    "plt.boxplot(data[variable1,variable2])"
   ]
  },
  {
   "cell_type": "markdown",
   "metadata": {},
   "source": [
    "Vamos a usar statsmodels para usar el ols(ordinary least squares). "
   ]
  },
  {
   "cell_type": "code",
   "execution_count": 15,
   "metadata": {},
   "outputs": [],
   "source": [
    "#import statsmodels.api as sm   #x0 toca agregarlo es el bias es uno \n",
    "import statsmodels.formula.api as sm  # aqui no toca agregar el bias, no necesitamos adicional la columna de uno "
   ]
  },
  {
   "cell_type": "markdown",
   "metadata": {},
   "source": [
    "-------"
   ]
  },
  {
   "cell_type": "markdown",
   "metadata": {
    "tags": [
     "4_min"
    ]
   },
   "source": [
    "## ¿Cuáles son las variables que influyen en la remuneración?\n",
    "\n",
    "¿Cómo se tiene en cuenta la influencia de las otras variables en la remuneración? ¿Cuáles son estas variables? Un buen punto de partida es inspirarse en un análisis exploratorio de datos."
   ]
  },
  {
   "cell_type": "code",
   "execution_count": 28,
   "metadata": {},
   "outputs": [
    {
     "data": {
      "text/html": [
       "<table class=\"simpletable\">\n",
       "<caption>OLS Regression Results</caption>\n",
       "<tr>\n",
       "  <th>Dep. Variable:</th>       <td>pay_yearly</td>    <th>  R-squared:         </th> <td>   0.506</td> \n",
       "</tr>\n",
       "<tr>\n",
       "  <th>Model:</th>                   <td>OLS</td>       <th>  Adj. R-squared:    </th> <td>   0.493</td> \n",
       "</tr>\n",
       "<tr>\n",
       "  <th>Method:</th>             <td>Least Squares</td>  <th>  F-statistic:       </th> <td>   38.41</td> \n",
       "</tr>\n",
       "<tr>\n",
       "  <th>Date:</th>             <td>Fri, 31 May 2024</td> <th>  Prob (F-statistic):</th> <td>2.11e-61</td> \n",
       "</tr>\n",
       "<tr>\n",
       "  <th>Time:</th>                 <td>20:02:03</td>     <th>  Log-Likelihood:    </th> <td> -5199.9</td> \n",
       "</tr>\n",
       "<tr>\n",
       "  <th>No. Observations:</th>      <td>   463</td>      <th>  AIC:               </th> <td>1.043e+04</td>\n",
       "</tr>\n",
       "<tr>\n",
       "  <th>Df Residuals:</th>          <td>   450</td>      <th>  BIC:               </th> <td>1.048e+04</td>\n",
       "</tr>\n",
       "<tr>\n",
       "  <th>Df Model:</th>              <td>    12</td>      <th>                     </th>     <td> </td>    \n",
       "</tr>\n",
       "<tr>\n",
       "  <th>Covariance Type:</th>      <td>nonrobust</td>    <th>                     </th>     <td> </td>    \n",
       "</tr>\n",
       "</table>\n",
       "<table class=\"simpletable\">\n",
       "<tr>\n",
       "                  <td></td>                     <th>coef</th>     <th>std err</th>      <th>t</th>      <th>P>|t|</th>  <th>[0.025</th>    <th>0.975]</th>  \n",
       "</tr>\n",
       "<tr>\n",
       "  <th>Intercept</th>                         <td>  4.41e+04</td> <td> 4251.087</td> <td>   10.373</td> <td> 0.000</td> <td> 3.57e+04</td> <td> 5.25e+04</td>\n",
       "</tr>\n",
       "<tr>\n",
       "  <th>job_title[T.Dog trainer]</th>          <td>-1.095e+04</td> <td> 2778.457</td> <td>   -3.942</td> <td> 0.000</td> <td>-1.64e+04</td> <td>-5491.545</td>\n",
       "</tr>\n",
       "<tr>\n",
       "  <th>job_title[T.Marketing associate]</th>  <td> 1.337e+04</td> <td> 3368.690</td> <td>    3.970</td> <td> 0.000</td> <td> 6752.164</td> <td>    2e+04</td>\n",
       "</tr>\n",
       "<tr>\n",
       "  <th>job_title[T.Project Manager]</th>      <td> 1.373e+04</td> <td> 2899.199</td> <td>    4.736</td> <td> 0.000</td> <td> 8032.270</td> <td> 1.94e+04</td>\n",
       "</tr>\n",
       "<tr>\n",
       "  <th>job_title[T.Sales representative]</th> <td>-1207.9643</td> <td> 2816.886</td> <td>   -0.429</td> <td> 0.668</td> <td>-6743.848</td> <td> 4327.920</td>\n",
       "</tr>\n",
       "<tr>\n",
       "  <th>job_title[T.Web Designer]</th>         <td>-1455.6120</td> <td> 3307.946</td> <td>   -0.440</td> <td> 0.660</td> <td>-7956.551</td> <td> 5045.327</td>\n",
       "</tr>\n",
       "<tr>\n",
       "  <th>education[T.High School]</th>          <td> -278.3053</td> <td> 2404.785</td> <td>   -0.116</td> <td> 0.908</td> <td>-5004.309</td> <td> 4447.698</td>\n",
       "</tr>\n",
       "<tr>\n",
       "  <th>education[T.Masters]</th>              <td> 4937.7643</td> <td> 2446.576</td> <td>    2.018</td> <td> 0.044</td> <td>  129.631</td> <td> 9745.898</td>\n",
       "</tr>\n",
       "<tr>\n",
       "  <th>education[T.PhD]</th>                  <td> 9838.9167</td> <td> 2537.772</td> <td>    3.877</td> <td> 0.000</td> <td> 4851.562</td> <td> 1.48e+04</td>\n",
       "</tr>\n",
       "<tr>\n",
       "  <th>male_female[T.M]</th>                  <td> 3709.8452</td> <td> 1853.780</td> <td>    2.001</td> <td> 0.046</td> <td>   66.704</td> <td> 7352.987</td>\n",
       "</tr>\n",
       "<tr>\n",
       "  <th>age_years</th>                         <td>  666.1748</td> <td>   62.980</td> <td>   10.578</td> <td> 0.000</td> <td>  542.403</td> <td>  789.946</td>\n",
       "</tr>\n",
       "<tr>\n",
       "  <th>performance_score</th>                 <td>   83.8079</td> <td>   31.411</td> <td>    2.668</td> <td> 0.008</td> <td>   22.077</td> <td>  145.539</td>\n",
       "</tr>\n",
       "<tr>\n",
       "  <th>seniority_years</th>                   <td> 3613.3282</td> <td>  356.544</td> <td>   10.134</td> <td> 0.000</td> <td> 2912.630</td> <td> 4314.026</td>\n",
       "</tr>\n",
       "</table>\n",
       "<table class=\"simpletable\">\n",
       "<tr>\n",
       "  <th>Omnibus:</th>       <td> 0.094</td> <th>  Durbin-Watson:     </th> <td>   1.939</td>\n",
       "</tr>\n",
       "<tr>\n",
       "  <th>Prob(Omnibus):</th> <td> 0.954</td> <th>  Jarque-Bera (JB):  </th> <td>   0.062</td>\n",
       "</tr>\n",
       "<tr>\n",
       "  <th>Skew:</th>          <td>-0.028</td> <th>  Prob(JB):          </th> <td>   0.969</td>\n",
       "</tr>\n",
       "<tr>\n",
       "  <th>Kurtosis:</th>      <td> 3.002</td> <th>  Cond. No.          </th> <td>    466.</td>\n",
       "</tr>\n",
       "</table><br/><br/>Notes:<br/>[1] Standard Errors assume that the covariance matrix of the errors is correctly specified."
      ],
      "text/latex": [
       "\\begin{center}\n",
       "\\begin{tabular}{lclc}\n",
       "\\toprule\n",
       "\\textbf{Dep. Variable:}                     &   pay\\_yearly    & \\textbf{  R-squared:         } &     0.506   \\\\\n",
       "\\textbf{Model:}                             &       OLS        & \\textbf{  Adj. R-squared:    } &     0.493   \\\\\n",
       "\\textbf{Method:}                            &  Least Squares   & \\textbf{  F-statistic:       } &     38.41   \\\\\n",
       "\\textbf{Date:}                              & Fri, 31 May 2024 & \\textbf{  Prob (F-statistic):} &  2.11e-61   \\\\\n",
       "\\textbf{Time:}                              &     20:02:03     & \\textbf{  Log-Likelihood:    } &   -5199.9   \\\\\n",
       "\\textbf{No. Observations:}                  &         463      & \\textbf{  AIC:               } & 1.043e+04   \\\\\n",
       "\\textbf{Df Residuals:}                      &         450      & \\textbf{  BIC:               } & 1.048e+04   \\\\\n",
       "\\textbf{Df Model:}                          &          12      & \\textbf{                     } &             \\\\\n",
       "\\textbf{Covariance Type:}                   &    nonrobust     & \\textbf{                     } &             \\\\\n",
       "\\bottomrule\n",
       "\\end{tabular}\n",
       "\\begin{tabular}{lcccccc}\n",
       "                                            & \\textbf{coef} & \\textbf{std err} & \\textbf{t} & \\textbf{P$> |$t$|$} & \\textbf{[0.025} & \\textbf{0.975]}  \\\\\n",
       "\\midrule\n",
       "\\textbf{Intercept}                          &     4.41e+04  &     4251.087     &    10.373  &         0.000        &     3.57e+04    &     5.25e+04     \\\\\n",
       "\\textbf{job\\_title[T.Dog trainer]}          &   -1.095e+04  &     2778.457     &    -3.942  &         0.000        &    -1.64e+04    &    -5491.545     \\\\\n",
       "\\textbf{job\\_title[T.Marketing associate]}  &    1.337e+04  &     3368.690     &     3.970  &         0.000        &     6752.164    &        2e+04     \\\\\n",
       "\\textbf{job\\_title[T.Project Manager]}      &    1.373e+04  &     2899.199     &     4.736  &         0.000        &     8032.270    &     1.94e+04     \\\\\n",
       "\\textbf{job\\_title[T.Sales representative]} &   -1207.9643  &     2816.886     &    -0.429  &         0.668        &    -6743.848    &     4327.920     \\\\\n",
       "\\textbf{job\\_title[T.Web Designer]}         &   -1455.6120  &     3307.946     &    -0.440  &         0.660        &    -7956.551    &     5045.327     \\\\\n",
       "\\textbf{education[T.High School]}           &    -278.3053  &     2404.785     &    -0.116  &         0.908        &    -5004.309    &     4447.698     \\\\\n",
       "\\textbf{education[T.Masters]}               &    4937.7643  &     2446.576     &     2.018  &         0.044        &      129.631    &     9745.898     \\\\\n",
       "\\textbf{education[T.PhD]}                   &    9838.9167  &     2537.772     &     3.877  &         0.000        &     4851.562    &     1.48e+04     \\\\\n",
       "\\textbf{male\\_female[T.M]}                  &    3709.8452  &     1853.780     &     2.001  &         0.046        &       66.704    &     7352.987     \\\\\n",
       "\\textbf{age\\_years}                         &     666.1748  &       62.980     &    10.578  &         0.000        &      542.403    &      789.946     \\\\\n",
       "\\textbf{performance\\_score}                 &      83.8079  &       31.411     &     2.668  &         0.008        &       22.077    &      145.539     \\\\\n",
       "\\textbf{seniority\\_years}                   &    3613.3282  &      356.544     &    10.134  &         0.000        &     2912.630    &     4314.026     \\\\\n",
       "\\bottomrule\n",
       "\\end{tabular}\n",
       "\\begin{tabular}{lclc}\n",
       "\\textbf{Omnibus:}       &  0.094 & \\textbf{  Durbin-Watson:     } &    1.939  \\\\\n",
       "\\textbf{Prob(Omnibus):} &  0.954 & \\textbf{  Jarque-Bera (JB):  } &    0.062  \\\\\n",
       "\\textbf{Skew:}          & -0.028 & \\textbf{  Prob(JB):          } &    0.969  \\\\\n",
       "\\textbf{Kurtosis:}      &  3.002 & \\textbf{  Cond. No.          } &     466.  \\\\\n",
       "\\bottomrule\n",
       "\\end{tabular}\n",
       "%\\caption{OLS Regression Results}\n",
       "\\end{center}\n",
       "\n",
       "Notes: \\newline\n",
       " [1] Standard Errors assume that the covariance matrix of the errors is correctly specified."
      ],
      "text/plain": [
       "<class 'statsmodels.iolib.summary.Summary'>\n",
       "\"\"\"\n",
       "                            OLS Regression Results                            \n",
       "==============================================================================\n",
       "Dep. Variable:             pay_yearly   R-squared:                       0.506\n",
       "Model:                            OLS   Adj. R-squared:                  0.493\n",
       "Method:                 Least Squares   F-statistic:                     38.41\n",
       "Date:                Fri, 31 May 2024   Prob (F-statistic):           2.11e-61\n",
       "Time:                        20:02:03   Log-Likelihood:                -5199.9\n",
       "No. Observations:                 463   AIC:                         1.043e+04\n",
       "Df Residuals:                     450   BIC:                         1.048e+04\n",
       "Df Model:                          12                                         \n",
       "Covariance Type:            nonrobust                                         \n",
       "=====================================================================================================\n",
       "                                        coef    std err          t      P>|t|      [0.025      0.975]\n",
       "-----------------------------------------------------------------------------------------------------\n",
       "Intercept                           4.41e+04   4251.087     10.373      0.000    3.57e+04    5.25e+04\n",
       "job_title[T.Dog trainer]          -1.095e+04   2778.457     -3.942      0.000   -1.64e+04   -5491.545\n",
       "job_title[T.Marketing associate]   1.337e+04   3368.690      3.970      0.000    6752.164       2e+04\n",
       "job_title[T.Project Manager]       1.373e+04   2899.199      4.736      0.000    8032.270    1.94e+04\n",
       "job_title[T.Sales representative] -1207.9643   2816.886     -0.429      0.668   -6743.848    4327.920\n",
       "job_title[T.Web Designer]         -1455.6120   3307.946     -0.440      0.660   -7956.551    5045.327\n",
       "education[T.High School]           -278.3053   2404.785     -0.116      0.908   -5004.309    4447.698\n",
       "education[T.Masters]               4937.7643   2446.576      2.018      0.044     129.631    9745.898\n",
       "education[T.PhD]                   9838.9167   2537.772      3.877      0.000    4851.562    1.48e+04\n",
       "male_female[T.M]                   3709.8452   1853.780      2.001      0.046      66.704    7352.987\n",
       "age_years                           666.1748     62.980     10.578      0.000     542.403     789.946\n",
       "performance_score                    83.8079     31.411      2.668      0.008      22.077     145.539\n",
       "seniority_years                    3613.3282    356.544     10.134      0.000    2912.630    4314.026\n",
       "==============================================================================\n",
       "Omnibus:                        0.094   Durbin-Watson:                   1.939\n",
       "Prob(Omnibus):                  0.954   Jarque-Bera (JB):                0.062\n",
       "Skew:                          -0.028   Prob(JB):                        0.969\n",
       "Kurtosis:                       3.002   Cond. No.                         466.\n",
       "==============================================================================\n",
       "\n",
       "Notes:\n",
       "[1] Standard Errors assume that the covariance matrix of the errors is correctly specified.\n",
       "\"\"\""
      ]
     },
     "execution_count": 28,
     "metadata": {},
     "output_type": "execute_result"
    }
   ],
   "source": [
    "# vamos a usar la regresion y vamos a ver que es lo que nos devulven y ver que es \n",
    "\n",
    "formula='pay_yearly ~ job_title + age_years + \tperformance_score + education + male_female + seniority_years' # es un texto es la variable indepe y depediente \n",
    "modelo=sm.ols(formula,data=data)\n",
    "modelo.fit().summary()"
   ]
  },
  {
   "cell_type": "code",
   "execution_count": 26,
   "metadata": {},
   "outputs": [
    {
     "data": {
      "text/html": [
       "<table class=\"simpletable\">\n",
       "<caption>OLS Regression Results</caption>\n",
       "<tr>\n",
       "  <th>Dep. Variable:</th>       <td>pay_yearly</td>    <th>  R-squared:         </th> <td>   0.364</td> \n",
       "</tr>\n",
       "<tr>\n",
       "  <th>Model:</th>                   <td>OLS</td>       <th>  Adj. R-squared:    </th> <td>   0.357</td> \n",
       "</tr>\n",
       "<tr>\n",
       "  <th>Method:</th>             <td>Least Squares</td>  <th>  F-statistic:       </th> <td>   52.21</td> \n",
       "</tr>\n",
       "<tr>\n",
       "  <th>Date:</th>             <td>Fri, 31 May 2024</td> <th>  Prob (F-statistic):</th> <td>8.42e-43</td> \n",
       "</tr>\n",
       "<tr>\n",
       "  <th>Time:</th>                 <td>19:05:40</td>     <th>  Log-Likelihood:    </th> <td> -5258.5</td> \n",
       "</tr>\n",
       "<tr>\n",
       "  <th>No. Observations:</th>      <td>   463</td>      <th>  AIC:               </th> <td>1.053e+04</td>\n",
       "</tr>\n",
       "<tr>\n",
       "  <th>Df Residuals:</th>          <td>   457</td>      <th>  BIC:               </th> <td>1.055e+04</td>\n",
       "</tr>\n",
       "<tr>\n",
       "  <th>Df Model:</th>              <td>     5</td>      <th>                     </th>     <td> </td>    \n",
       "</tr>\n",
       "<tr>\n",
       "  <th>Covariance Type:</th>      <td>nonrobust</td>    <th>                     </th>     <td> </td>    \n",
       "</tr>\n",
       "</table>\n",
       "<table class=\"simpletable\">\n",
       "<tr>\n",
       "              <td></td>                <th>coef</th>     <th>std err</th>      <th>t</th>      <th>P>|t|</th>  <th>[0.025</th>    <th>0.975]</th>  \n",
       "</tr>\n",
       "<tr>\n",
       "  <th>Intercept</th>                <td> 5.091e+04</td> <td> 3537.742</td> <td>   14.390</td> <td> 0.000</td> <td>  4.4e+04</td> <td> 5.79e+04</td>\n",
       "</tr>\n",
       "<tr>\n",
       "  <th>education[T.High School]</th> <td> 1713.8266</td> <td> 2697.213</td> <td>    0.635</td> <td> 0.525</td> <td>-3586.651</td> <td> 7014.304</td>\n",
       "</tr>\n",
       "<tr>\n",
       "  <th>education[T.Masters]</th>     <td> 6510.2878</td> <td> 2742.713</td> <td>    2.374</td> <td> 0.018</td> <td> 1120.395</td> <td> 1.19e+04</td>\n",
       "</tr>\n",
       "<tr>\n",
       "  <th>education[T.PhD]</th>         <td> 1.204e+04</td> <td> 2844.615</td> <td>    4.233</td> <td> 0.000</td> <td> 6450.113</td> <td> 1.76e+04</td>\n",
       "</tr>\n",
       "<tr>\n",
       "  <th>age_years</th>                <td>  685.8826</td> <td>   70.287</td> <td>    9.758</td> <td> 0.000</td> <td>  547.757</td> <td>  824.008</td>\n",
       "</tr>\n",
       "<tr>\n",
       "  <th>seniority_years</th>          <td> 3237.9353</td> <td>  396.791</td> <td>    8.160</td> <td> 0.000</td> <td> 2458.174</td> <td> 4017.696</td>\n",
       "</tr>\n",
       "</table>\n",
       "<table class=\"simpletable\">\n",
       "<tr>\n",
       "  <th>Omnibus:</th>       <td> 0.247</td> <th>  Durbin-Watson:     </th> <td>   1.957</td>\n",
       "</tr>\n",
       "<tr>\n",
       "  <th>Prob(Omnibus):</th> <td> 0.884</td> <th>  Jarque-Bera (JB):  </th> <td>   0.261</td>\n",
       "</tr>\n",
       "<tr>\n",
       "  <th>Skew:</th>          <td> 0.056</td> <th>  Prob(JB):          </th> <td>   0.878</td>\n",
       "</tr>\n",
       "<tr>\n",
       "  <th>Kurtosis:</th>      <td> 2.967</td> <th>  Cond. No.          </th> <td>    207.</td>\n",
       "</tr>\n",
       "</table><br/><br/>Notes:<br/>[1] Standard Errors assume that the covariance matrix of the errors is correctly specified."
      ],
      "text/latex": [
       "\\begin{center}\n",
       "\\begin{tabular}{lclc}\n",
       "\\toprule\n",
       "\\textbf{Dep. Variable:}           &   pay\\_yearly    & \\textbf{  R-squared:         } &     0.364   \\\\\n",
       "\\textbf{Model:}                   &       OLS        & \\textbf{  Adj. R-squared:    } &     0.357   \\\\\n",
       "\\textbf{Method:}                  &  Least Squares   & \\textbf{  F-statistic:       } &     52.21   \\\\\n",
       "\\textbf{Date:}                    & Fri, 31 May 2024 & \\textbf{  Prob (F-statistic):} &  8.42e-43   \\\\\n",
       "\\textbf{Time:}                    &     19:05:40     & \\textbf{  Log-Likelihood:    } &   -5258.5   \\\\\n",
       "\\textbf{No. Observations:}        &         463      & \\textbf{  AIC:               } & 1.053e+04   \\\\\n",
       "\\textbf{Df Residuals:}            &         457      & \\textbf{  BIC:               } & 1.055e+04   \\\\\n",
       "\\textbf{Df Model:}                &           5      & \\textbf{                     } &             \\\\\n",
       "\\textbf{Covariance Type:}         &    nonrobust     & \\textbf{                     } &             \\\\\n",
       "\\bottomrule\n",
       "\\end{tabular}\n",
       "\\begin{tabular}{lcccccc}\n",
       "                                  & \\textbf{coef} & \\textbf{std err} & \\textbf{t} & \\textbf{P$> |$t$|$} & \\textbf{[0.025} & \\textbf{0.975]}  \\\\\n",
       "\\midrule\n",
       "\\textbf{Intercept}                &    5.091e+04  &     3537.742     &    14.390  &         0.000        &      4.4e+04    &     5.79e+04     \\\\\n",
       "\\textbf{education[T.High School]} &    1713.8266  &     2697.213     &     0.635  &         0.525        &    -3586.651    &     7014.304     \\\\\n",
       "\\textbf{education[T.Masters]}     &    6510.2878  &     2742.713     &     2.374  &         0.018        &     1120.395    &     1.19e+04     \\\\\n",
       "\\textbf{education[T.PhD]}         &    1.204e+04  &     2844.615     &     4.233  &         0.000        &     6450.113    &     1.76e+04     \\\\\n",
       "\\textbf{age\\_years}               &     685.8826  &       70.287     &     9.758  &         0.000        &      547.757    &      824.008     \\\\\n",
       "\\textbf{seniority\\_years}         &    3237.9353  &      396.791     &     8.160  &         0.000        &     2458.174    &     4017.696     \\\\\n",
       "\\bottomrule\n",
       "\\end{tabular}\n",
       "\\begin{tabular}{lclc}\n",
       "\\textbf{Omnibus:}       &  0.247 & \\textbf{  Durbin-Watson:     } &    1.957  \\\\\n",
       "\\textbf{Prob(Omnibus):} &  0.884 & \\textbf{  Jarque-Bera (JB):  } &    0.261  \\\\\n",
       "\\textbf{Skew:}          &  0.056 & \\textbf{  Prob(JB):          } &    0.878  \\\\\n",
       "\\textbf{Kurtosis:}      &  2.967 & \\textbf{  Cond. No.          } &     207.  \\\\\n",
       "\\bottomrule\n",
       "\\end{tabular}\n",
       "%\\caption{OLS Regression Results}\n",
       "\\end{center}\n",
       "\n",
       "Notes: \\newline\n",
       " [1] Standard Errors assume that the covariance matrix of the errors is correctly specified."
      ],
      "text/plain": [
       "<class 'statsmodels.iolib.summary.Summary'>\n",
       "\"\"\"\n",
       "                            OLS Regression Results                            \n",
       "==============================================================================\n",
       "Dep. Variable:             pay_yearly   R-squared:                       0.364\n",
       "Model:                            OLS   Adj. R-squared:                  0.357\n",
       "Method:                 Least Squares   F-statistic:                     52.21\n",
       "Date:                Fri, 31 May 2024   Prob (F-statistic):           8.42e-43\n",
       "Time:                        19:05:40   Log-Likelihood:                -5258.5\n",
       "No. Observations:                 463   AIC:                         1.053e+04\n",
       "Df Residuals:                     457   BIC:                         1.055e+04\n",
       "Df Model:                           5                                         \n",
       "Covariance Type:            nonrobust                                         \n",
       "============================================================================================\n",
       "                               coef    std err          t      P>|t|      [0.025      0.975]\n",
       "--------------------------------------------------------------------------------------------\n",
       "Intercept                 5.091e+04   3537.742     14.390      0.000     4.4e+04    5.79e+04\n",
       "education[T.High School]  1713.8266   2697.213      0.635      0.525   -3586.651    7014.304\n",
       "education[T.Masters]      6510.2878   2742.713      2.374      0.018    1120.395    1.19e+04\n",
       "education[T.PhD]          1.204e+04   2844.615      4.233      0.000    6450.113    1.76e+04\n",
       "age_years                  685.8826     70.287      9.758      0.000     547.757     824.008\n",
       "seniority_years           3237.9353    396.791      8.160      0.000    2458.174    4017.696\n",
       "==============================================================================\n",
       "Omnibus:                        0.247   Durbin-Watson:                   1.957\n",
       "Prob(Omnibus):                  0.884   Jarque-Bera (JB):                0.261\n",
       "Skew:                           0.056   Prob(JB):                        0.878\n",
       "Kurtosis:                       2.967   Cond. No.                         207.\n",
       "==============================================================================\n",
       "\n",
       "Notes:\n",
       "[1] Standard Errors assume that the covariance matrix of the errors is correctly specified.\n",
       "\"\"\""
      ]
     },
     "execution_count": 26,
     "metadata": {},
     "output_type": "execute_result"
    }
   ],
   "source": [
    "# que pasa si meto una variable categorica como male_female , los individuos \n",
    "formula2='pay_yearly ~ age_years + education + seniority_years' # es un texto es la variable indepe y depediente \n",
    "modelo2=sm.ols(formula2,data=data)\n",
    "modelo2.fit().summary()\n",
    "\n",
    "# entonces esto compara con la primera que esta en orden alfabetico y el coefecieinte muestra sobre que con resctecto las demas. \n",
    "# variables de coef altos negativos o positivios y que tenga una estadistica importante.por que impacta mas en la salida \n",
    "# el intervalo de confianza --> donde esta el valor entre mas o menos el coefiente es el promedio \n"
   ]
  },
  {
   "cell_type": "code",
   "execution_count": null,
   "metadata": {},
   "outputs": [],
   "source": [
    "formula3='pay_yearly ~ age_years + education + seniority_years' # es un texto es la variable indepe y depediente \n",
    "modelo3=sm.ols(formula3,data=data)\n",
    "modelo3.fit().summary()"
   ]
  },
  {
   "cell_type": "code",
   "execution_count": 41,
   "metadata": {},
   "outputs": [
    {
     "data": {
      "text/plain": [
       "job_title\n",
       "Sales representative    50\n",
       "Project Manager         48\n",
       "Marketing associate     47\n",
       "Account executive       43\n",
       "Dog trainer             28\n",
       "Web Designer            25\n",
       "Name: count, dtype: int64"
      ]
     },
     "execution_count": 41,
     "metadata": {},
     "output_type": "execute_result"
    }
   ],
   "source": [
    "male_data = data[data['male_female'] == 'M']\n",
    "male_counts = male_data['job_title'].value_counts()\n",
    "male_counts\n"
   ]
  },
  {
   "cell_type": "code",
   "execution_count": 40,
   "metadata": {},
   "outputs": [
    {
     "name": "stdout",
     "output_type": "stream",
     "text": [
      "                job_title  age_years  performance_score    education  \\\n",
      "3    Sales representative         26              16.67      Masters   \n",
      "5             Dog trainer         36              50.00      College   \n",
      "6       Account executive         35              33.33      College   \n",
      "7             Dog trainer         18              83.33      College   \n",
      "10            Dog trainer         54              50.00  High School   \n",
      "..                    ...        ...                ...          ...   \n",
      "456           Dog trainer         29              66.67  High School   \n",
      "459           Dog trainer         40              66.67      College   \n",
      "460  Sales representative         58              33.33      College   \n",
      "461           Dog trainer         53              83.33          PhD   \n",
      "462          Web Designer         41              50.00      College   \n",
      "\n",
      "     seniority_years  pay_yearly male_female  \n",
      "3                  3      118191           F  \n",
      "5                  6       53533           F  \n",
      "6                  7       92030           F  \n",
      "7                  0       79461           F  \n",
      "10                 5      149799           F  \n",
      "..               ...         ...         ...  \n",
      "456                5      106584           F  \n",
      "459                8       96368           F  \n",
      "460                7      112027           F  \n",
      "461                5       89330           F  \n",
      "462                3       85458           F  \n",
      "\n",
      "[222 rows x 7 columns]\n"
     ]
    },
    {
     "data": {
      "text/plain": [
       "job_title\n",
       "Sales representative    50\n",
       "Project Manager         48\n",
       "Marketing associate     47\n",
       "Account executive       43\n",
       "Dog trainer             28\n",
       "Web Designer            25\n",
       "Name: count, dtype: int64"
      ]
     },
     "execution_count": 40,
     "metadata": {},
     "output_type": "execute_result"
    }
   ],
   "source": [
    "female_data = data[data['male_female'] == 'F']\n",
    "print(female_data)\n",
    "female_counts = male_data['job_title'].value_counts()\n",
    "female_counts"
   ]
  },
  {
   "cell_type": "code",
   "execution_count": null,
   "metadata": {},
   "outputs": [],
   "source": [
    "# ojo aqui se usa una metrica para mirar la presicion de un modelo de precision que es el r2\n",
    "# que quiere decir que porcentaje de la variabilidad esta siendo explicada por las entradas \n",
    "# para saber si es importante es depende del estado del arte. "
   ]
  }
 ],
 "metadata": {
  "c1_recart": "6.10.0-57c20131aabc1dc2a8c675852d80a7da",
  "kernelspec": {
   "display_name": "Python 3 (ipykernel)",
   "language": "python",
   "name": "python3"
  },
  "language_info": {
   "codemirror_mode": {
    "name": "ipython",
    "version": 3
   },
   "file_extension": ".py",
   "mimetype": "text/x-python",
   "name": "python",
   "nbconvert_exporter": "python",
   "pygments_lexer": "ipython3",
   "version": "3.11.4"
  }
 },
 "nbformat": 4,
 "nbformat_minor": 2
}
