{
 "cells": [
  {
   "cell_type": "markdown",
   "metadata": {},
   "source": [
    "# ¿Cómo construyo un modelo de predicción para los impagos de préstamos de Lending Club?"
   ]
  },
  {
   "cell_type": "markdown",
   "metadata": {
    "tags": [
     "5_min"
    ]
   },
   "source": [
    "## Introducción"
   ]
  },
  {
   "cell_type": "markdown",
   "metadata": {},
   "source": [
    "**Contexto de Negocio** Hemos visto en el caso anterior lo que podemos hacer para determinar si un aspecto de la información personal (por ejemplo, si la información sobre los ingresos está verificada) es importante a la hora de predecir el estado de impago. Este tipo de análisis ayuda sin duda a simplificar el proceso de préstamo. Sin embargo, la pregunta más importante para toda empresa de préstamos es si un usuario incurrirá en impago o no.\n",
    "\n",
    "**Problema** Construir un modelo de clasificación para determinar si un usuario incumplirá su préstamo o no.\n",
    "\n",
    "**Contexto analítico** Como científico de datos, necesita perfeccionar el algoritmo de clasificación. Es importante verificar cuantitativamente que el algoritmo va a funcionar para los datos futuros. Además, es importante no depender únicamente de la regresión logística, ya que tiene algunas deficiencias que se manejan mejor con otros tipos de modelos. Consideraremos los modelos generados a partir de la regresión logística, así como dos nuevos algoritmos: los clasificadores Naive Bayes y los bosques aleatorios.\n",
    "\n",
    "El caso está estructurado de la siguiente manera\n",
    "1. generar un modelo de referencia a partir de la regresión logística\n",
    "2. introducir los clasificadores Naive Bayes y los bosques aleatorios\n",
    "3. utilizar estos algoritmos para actualizar nuestro modelo; y finalmente\n",
    "4. utilizar la validación cruzada para seleccionar el mejor modelo"
   ]
  },
  {
   "cell_type": "markdown",
   "metadata": {
    "tags": [
     "20_min"
    ]
   },
   "source": [
    "## Modelo de regresión logística"
   ]
  },
  {
   "cell_type": "code",
   "execution_count": 8,
   "metadata": {},
   "outputs": [],
   "source": [
    "import pandas as pd\n",
    "import pydotplus\n",
    "import numpy  as np\n",
    "import matplotlib.pyplot as plt\n",
    "import seaborn as sns\n",
    "import statsmodels.api as sm\n",
    "\n",
    "from io import StringIO\n",
    "from IPython.display import Image, SVG\n",
    "from graphviz import Source\n",
    "from matplotlib import cm\n",
    "from matplotlib.colors import ListedColormap, LinearSegmentedColormap\n",
    "from matplotlib.patches import Patch\n",
    "from scipy.stats import chi2_contingency, norm\n",
    "from sklearn.tree import export_graphviz\n",
    "from sklearn import tree\n",
    "from sklearn.tree import DecisionTreeClassifier\n",
    "from sklearn.ensemble import RandomForestClassifier\n",
    "from sklearn.metrics import roc_curve, auc, accuracy_score\n",
    "from sklearn.model_selection import StratifiedKFold, train_test_split\n",
    "from statsmodels.formula.api import ols\n",
    "from sympy import var, plot_implicit, Eq\n",
    "\n",
    "# ignore log(0) and divide by 0 warning\n",
    "np.seterr(divide='ignore');"
   ]
  },
  {
   "cell_type": "code",
   "execution_count": 9,
   "metadata": {},
   "outputs": [],
   "source": [
    "df = pd.read_csv('data\\Lending_club_cleaned_2.csv',\n",
    "                 dtype = {'loan_status':'category', 'annual_inc':'float',\n",
    "                          'verification_status':'category', 'emp_length':'category',\n",
    "                          'home_ownership':'category', 'int_rate':'object',\n",
    "                          'loan_amnt':'float', 'purpose':'category',\n",
    "                          'term':'category', 'grade':'category'})\n",
    "df['int_rate'] = df['int_rate'].str.rstrip('%').astype('float')"
   ]
  },
  {
   "cell_type": "code",
   "execution_count": 10,
   "metadata": {},
   "outputs": [
    {
     "data": {
      "text/html": [
       "<div>\n",
       "<style scoped>\n",
       "    .dataframe tbody tr th:only-of-type {\n",
       "        vertical-align: middle;\n",
       "    }\n",
       "\n",
       "    .dataframe tbody tr th {\n",
       "        vertical-align: top;\n",
       "    }\n",
       "\n",
       "    .dataframe thead th {\n",
       "        text-align: right;\n",
       "    }\n",
       "</style>\n",
       "<table border=\"1\" class=\"dataframe\">\n",
       "  <thead>\n",
       "    <tr style=\"text-align: right;\">\n",
       "      <th></th>\n",
       "      <th>loan_status</th>\n",
       "      <th>annual_inc</th>\n",
       "      <th>verification_status</th>\n",
       "      <th>emp_length</th>\n",
       "      <th>home_ownership</th>\n",
       "      <th>int_rate</th>\n",
       "      <th>loan_amnt</th>\n",
       "      <th>purpose</th>\n",
       "      <th>term</th>\n",
       "      <th>grade</th>\n",
       "    </tr>\n",
       "  </thead>\n",
       "  <tbody>\n",
       "    <tr>\n",
       "      <th>0</th>\n",
       "      <td>Fully Paid</td>\n",
       "      <td>24000.0</td>\n",
       "      <td>Verified</td>\n",
       "      <td>10+ years</td>\n",
       "      <td>RENT</td>\n",
       "      <td>10.65</td>\n",
       "      <td>5000.0</td>\n",
       "      <td>credit_card</td>\n",
       "      <td>36 months</td>\n",
       "      <td>B</td>\n",
       "    </tr>\n",
       "    <tr>\n",
       "      <th>1</th>\n",
       "      <td>Charged Off</td>\n",
       "      <td>30000.0</td>\n",
       "      <td>Source Verified</td>\n",
       "      <td>&lt; 1 year</td>\n",
       "      <td>RENT</td>\n",
       "      <td>15.27</td>\n",
       "      <td>2500.0</td>\n",
       "      <td>car</td>\n",
       "      <td>60 months</td>\n",
       "      <td>C</td>\n",
       "    </tr>\n",
       "    <tr>\n",
       "      <th>2</th>\n",
       "      <td>Fully Paid</td>\n",
       "      <td>12252.0</td>\n",
       "      <td>Not Verified</td>\n",
       "      <td>10+ years</td>\n",
       "      <td>RENT</td>\n",
       "      <td>15.96</td>\n",
       "      <td>2400.0</td>\n",
       "      <td>small_business</td>\n",
       "      <td>36 months</td>\n",
       "      <td>C</td>\n",
       "    </tr>\n",
       "    <tr>\n",
       "      <th>3</th>\n",
       "      <td>Fully Paid</td>\n",
       "      <td>49200.0</td>\n",
       "      <td>Source Verified</td>\n",
       "      <td>10+ years</td>\n",
       "      <td>RENT</td>\n",
       "      <td>13.49</td>\n",
       "      <td>10000.0</td>\n",
       "      <td>other</td>\n",
       "      <td>36 months</td>\n",
       "      <td>C</td>\n",
       "    </tr>\n",
       "    <tr>\n",
       "      <th>4</th>\n",
       "      <td>Fully Paid</td>\n",
       "      <td>80000.0</td>\n",
       "      <td>Source Verified</td>\n",
       "      <td>1 year</td>\n",
       "      <td>RENT</td>\n",
       "      <td>12.69</td>\n",
       "      <td>3000.0</td>\n",
       "      <td>other</td>\n",
       "      <td>60 months</td>\n",
       "      <td>B</td>\n",
       "    </tr>\n",
       "  </tbody>\n",
       "</table>\n",
       "</div>"
      ],
      "text/plain": [
       "   loan_status  annual_inc verification_status emp_length home_ownership  \\\n",
       "0   Fully Paid     24000.0            Verified  10+ years           RENT   \n",
       "1  Charged Off     30000.0     Source Verified   < 1 year           RENT   \n",
       "2   Fully Paid     12252.0        Not Verified  10+ years           RENT   \n",
       "3   Fully Paid     49200.0     Source Verified  10+ years           RENT   \n",
       "4   Fully Paid     80000.0     Source Verified     1 year           RENT   \n",
       "\n",
       "   int_rate  loan_amnt         purpose        term grade  \n",
       "0     10.65     5000.0     credit_card   36 months     B  \n",
       "1     15.27     2500.0             car   60 months     C  \n",
       "2     15.96     2400.0  small_business   36 months     C  \n",
       "3     13.49    10000.0           other   36 months     C  \n",
       "4     12.69     3000.0           other   60 months     B  "
      ]
     },
     "execution_count": 10,
     "metadata": {},
     "output_type": "execute_result"
    }
   ],
   "source": [
    "df.head()"
   ]
  },
  {
   "cell_type": "markdown",
   "metadata": {},
   "source": [
    "Resultados y código del modelo final del caso anterior"
   ]
  },
  {
   "cell_type": "code",
   "execution_count": 14,
   "metadata": {},
   "outputs": [],
   "source": [
    "# normalizar y configurar los datos\n",
    "df_log = pd.concat([(df['loan_amnt'] - df['loan_amnt'].mean())/df['loan_amnt'].std(),\n",
    "                     (df['int_rate'] - df['int_rate'].mean())/df['int_rate'].std(),\n",
    "                     (df['annual_inc'] - df['annual_inc'].mean())/df['annual_inc'].std(),\n",
    "                     pd.get_dummies(df['home_ownership'], prefix='home', drop_first=True),\n",
    "                     pd.get_dummies(df['purpose'], prefix='purpose', drop_first=True),\n",
    "                     pd.get_dummies(df['grade'], prefix='grade', drop_first=True)], axis=1)\n",
    "df_log['verification_status'] = df['verification_status'].cat.codes\n",
    "df_log['emp_length'] = df['emp_length'].cat.codes\n",
    "df_log['term'] = df['term'].cat.codes\n",
    "df_log['Intercept'] = 1"
   ]
  },
  {
   "cell_type": "markdown",
   "metadata": {},
   "source": [
    "La serie `predict_withvs` contiene las probabilidades calculadas por nuestro modelo logístico. En este caso, los valores más cercanos a uno corresponden a los usuarios que tienen más probabilidades de pagar totalmente su deuda. Para visualizar esto un poco mejor, hemos creado un gráfico de dispersión de los usuarios teniendo en cuenta el importe del préstamo y los ingresos anuales. Cada punto está coloreado con la serie `predic_withvs`, donde los puntos más oscuros son los que se sitúan por debajo de un umbral determinado (y, por tanto, se clasifican como morosos). Utilizaremos la función de actualización a continuación para ver cómo se comporta nuestro clasificador con respecto al umbral dado. En un mundo perfecto, el mejor clasificador colorearía de amarillo los puntos de la izquierda y de azul los de la derecha:"
   ]
  },
  {
   "cell_type": "markdown",
   "metadata": {},
   "source": [
    "## Árboles de decisión y bosques aleatorios\n",
    "\n",
    "Vamos a hablar ahora del **clasificador de árbol de decisión**. La siguiente figura muestra un ejemplo. Los nodos de la parte inferior del árbol se llaman nodos hoja y todos los demás nodos se llaman nodos internos o nodos rama. Cada nodo contiene una cantidad específica de muestras que se indica con `samples=`. Entre estas muestras, la proporción de muestras que son morosas y no morosas se indica con `value=`. Los valores del resultado mayoritario se indican con `class=`.\n",
    "\n",
    "Cuando se quiere predecir el estado de impago de un registro en particular, comience con el nodo más alto. Este nodo interno le indica la dirección que debe seguir en función del valor de `annual_inc`. Siguiendo las instrucciones de los nodos internos, se recorre el árbol hasta encontrar un nodo hoja. La etiqueta de resultado en ese nodo hoja es entonces el resultado predicho para el registro. Todo este proceso de predicción se parece mucho a lo que hacemos en nuestra vida diaria cuando tomamos una decisión (basándonos en la respuesta a una pregunta concreta, elegimos qué pregunta responder a continuación y, tras suficientes respuestas, llegamos a una conclusión)."
   ]
  },
  {
   "cell_type": "markdown",
   "metadata": {},
   "source": [
    "![](tree-1.png)"
   ]
  },
  {
   "cell_type": "markdown",
   "metadata": {},
   "source": [
    "### Ejercicio:\n",
    "\n",
    "Suponga que tiene dos usuarios con \"loan_amnt\" igual a 10.000 y 100.000.000 respectivamente. ¿Cuáles son los estados predeterminados previstos para estos dos usuarios, utilizando el árbol de decisión anterior?"
   ]
  },
  {
   "cell_type": "markdown",
   "metadata": {},
   "source": [
    "### ¿Cómo funciona el algoritmo?\n",
    "\n",
    "Supongamos que queremos crear un árbol de decisión que prediga el \"estado del préstamo\" en función del \"término\" y el \"estado de la verificación\". Lo primero que debemos hacer es decidir qué nodo poner en la parte superior del árbol. Para ello, basta con determinar cuál de los dos es mejor para predecir el estado del préstamo. \n",
    "\n",
    "Por ejemplo, imaginemos que el nodo más alto del árbol es `term<0.5` (es decir, si el cliente pidió un préstamo con un plazo de `36 meses`). Idealmente, éste sería un clasificador perfecto si todos los clientes que pidieran un préstamo a \"36 meses\" pagaran totalmente su deuda y todos los clientes que no pidieran un préstamo a \"36 meses\" no pagaran. Está claro que no es así:"
   ]
  },
  {
   "cell_type": "code",
   "execution_count": 16,
   "metadata": {},
   "outputs": [
    {
     "data": {
      "text/html": [
       "<div>\n",
       "<style scoped>\n",
       "    .dataframe tbody tr th:only-of-type {\n",
       "        vertical-align: middle;\n",
       "    }\n",
       "\n",
       "    .dataframe tbody tr th {\n",
       "        vertical-align: top;\n",
       "    }\n",
       "\n",
       "    .dataframe thead th {\n",
       "        text-align: right;\n",
       "    }\n",
       "</style>\n",
       "<table border=\"1\" class=\"dataframe\">\n",
       "  <thead>\n",
       "    <tr style=\"text-align: right;\">\n",
       "      <th>loan_status</th>\n",
       "      <th>0</th>\n",
       "      <th>1</th>\n",
       "      <th>All</th>\n",
       "      <th>Fully Paid(%)</th>\n",
       "    </tr>\n",
       "    <tr>\n",
       "      <th>term</th>\n",
       "      <th></th>\n",
       "      <th></th>\n",
       "      <th></th>\n",
       "      <th></th>\n",
       "    </tr>\n",
       "  </thead>\n",
       "  <tbody>\n",
       "    <tr>\n",
       "      <th>False</th>\n",
       "      <td>2367</td>\n",
       "      <td>8054</td>\n",
       "      <td>10421</td>\n",
       "      <td>0.772862</td>\n",
       "    </tr>\n",
       "    <tr>\n",
       "      <th>True</th>\n",
       "      <td>3073</td>\n",
       "      <td>25211</td>\n",
       "      <td>28284</td>\n",
       "      <td>0.891352</td>\n",
       "    </tr>\n",
       "    <tr>\n",
       "      <th>All</th>\n",
       "      <td>5440</td>\n",
       "      <td>33265</td>\n",
       "      <td>38705</td>\n",
       "      <td>0.859450</td>\n",
       "    </tr>\n",
       "  </tbody>\n",
       "</table>\n",
       "</div>"
      ],
      "text/plain": [
       "loan_status     0      1    All  Fully Paid(%)\n",
       "term                                          \n",
       "False        2367   8054  10421       0.772862\n",
       "True         3073  25211  28284       0.891352\n",
       "All          5440  33265  38705       0.859450"
      ]
     },
     "execution_count": 16,
     "metadata": {},
     "output_type": "execute_result"
    }
   ],
   "source": [
    "df_t=df_log.copy()\n",
    "df_t['loan_status']=df['loan_status'].cat.codes\n",
    "\n",
    "def get_ct(df, col):\n",
    "    ct_res = pd.crosstab(col, df['loan_status'], margins=True)\n",
    "    ct_res[\"Fully Paid(%)\"] = ct_res[1]/ct_res[\"All\"]\n",
    "    return ct_res\n",
    "\n",
    "get_ct(df_t,df_t['term']<0.5)\n",
    "\n",
    "# Esta diciendo el porcentaje de cada lado de cada clase cae en inpago o pago "
   ]
  },
  {
   "cell_type": "markdown",
   "metadata": {},
   "source": [
    "Entre todos los clientes que solicitaron un préstamo a 36 meses, el 89,1% no son morosos. Dado que no todos los clientes son morosos o no morosos, decimos que este conjunto es \"impuro\". Por ejemplo, el conjunto de clientes que solicitaron un préstamo a 60 meses también es impuro, ya que sólo el 77,2% de ellos no son morosos. Más que encontrar una regla perfecta que aísle un conjunto puro, el objetivo principal del algoritmo es seleccionar una regla que minimice la impureza global de los conjuntos resultantes.\n",
    "\n",
    "Un método popular para medir la impureza de un conjunto es utilizar la llamada **impureza de Gini**:\n",
    "\n",
    "$$\n",
    "\\begin{equation}\n",
    "\\begin{aligned}\n",
    "\\text{Gini}(\\text{'term'}<0.5)=2(0.891)(1-0.891)\\approx 0.193.\\\\\n",
    "\\text{Gini}(\\text{'term'}\\geq 0.5)=2(0.772)(1-0.772)\\approx 0.351.\\\\\n",
    "\\end{aligned}\n",
    "\\end{equation}\n",
    "$$ \n",
    "\n",
    "Entonces, la impureza global de la decisión `term`<0,5 se calcula como:\n",
    "\n",
    "$$\n",
    "\\text{CART('term'<0.5)}=\\frac{\\text{Clients with term<0.5}}{\\text{All clients}}\\text{Gini}(\\text{'term'}<0.5)+\\frac{\\text{Clients with term>0.5}}{\\text{All clients}}\\text{Gini}(\\text{'term'}<0.5)\\approx 0.23606\n",
    "$$\n",
    "\n",
    "Calculemos la impureza global de las decisiones `verified_source`<0,5 (es decir, clientes que son `Not Verified`) y `verified_source`<1,5 (es decir, clientes que son `Not Verified` o `Source Verified`):"
   ]
  },
  {
   "cell_type": "code",
   "execution_count": 13,
   "metadata": {},
   "outputs": [
    {
     "ename": "NameError",
     "evalue": "name 'df_t' is not defined",
     "output_type": "error",
     "traceback": [
      "\u001b[1;31m---------------------------------------------------------------------------\u001b[0m",
      "\u001b[1;31mNameError\u001b[0m                                 Traceback (most recent call last)",
      "Cell \u001b[1;32mIn[13], line 1\u001b[0m\n\u001b[1;32m----> 1\u001b[0m ct\u001b[38;5;241m=\u001b[39mget_ct(\u001b[43mdf_t\u001b[49m,df_t[\u001b[38;5;124m'\u001b[39m\u001b[38;5;124mverification_status\u001b[39m\u001b[38;5;124m'\u001b[39m]\u001b[38;5;241m<\u001b[39m\u001b[38;5;241m0.5\u001b[39m)\n\u001b[0;32m      2\u001b[0m GiniTrue\u001b[38;5;241m=\u001b[39m\u001b[38;5;241m2\u001b[39m\u001b[38;5;241m*\u001b[39mct\u001b[38;5;241m.\u001b[39mloc[\u001b[38;5;28;01mTrue\u001b[39;00m,\u001b[38;5;124m'\u001b[39m\u001b[38;5;124mFully Paid(\u001b[39m\u001b[38;5;124m%\u001b[39m\u001b[38;5;124m)\u001b[39m\u001b[38;5;124m'\u001b[39m]\u001b[38;5;241m*\u001b[39m(\u001b[38;5;241m1\u001b[39m\u001b[38;5;241m-\u001b[39mct\u001b[38;5;241m.\u001b[39mloc[\u001b[38;5;28;01mTrue\u001b[39;00m,\u001b[38;5;124m'\u001b[39m\u001b[38;5;124mFully Paid(\u001b[39m\u001b[38;5;124m%\u001b[39m\u001b[38;5;124m)\u001b[39m\u001b[38;5;124m'\u001b[39m])\n\u001b[0;32m      3\u001b[0m GiniFalse\u001b[38;5;241m=\u001b[39m\u001b[38;5;241m2\u001b[39m\u001b[38;5;241m*\u001b[39mct\u001b[38;5;241m.\u001b[39mloc[\u001b[38;5;28;01mFalse\u001b[39;00m,\u001b[38;5;124m'\u001b[39m\u001b[38;5;124mFully Paid(\u001b[39m\u001b[38;5;124m%\u001b[39m\u001b[38;5;124m)\u001b[39m\u001b[38;5;124m'\u001b[39m]\u001b[38;5;241m*\u001b[39m(\u001b[38;5;241m1\u001b[39m\u001b[38;5;241m-\u001b[39mct\u001b[38;5;241m.\u001b[39mloc[\u001b[38;5;28;01mFalse\u001b[39;00m,\u001b[38;5;124m'\u001b[39m\u001b[38;5;124mFully Paid(\u001b[39m\u001b[38;5;124m%\u001b[39m\u001b[38;5;124m)\u001b[39m\u001b[38;5;124m'\u001b[39m])\n",
      "\u001b[1;31mNameError\u001b[0m: name 'df_t' is not defined"
     ]
    }
   ],
   "source": [
    "ct=get_ct(df_t,df_t['verification_status']<0.5)\n",
    "GiniTrue=2*ct.loc[True,'Fully Paid(%)']*(1-ct.loc[True,'Fully Paid(%)'])\n",
    "GiniFalse=2*ct.loc[False,'Fully Paid(%)']*(1-ct.loc[False,'Fully Paid(%)'])\n",
    "CART=(ct.loc[True,'All']*GiniTrue+ct.loc[False,'All']*GiniFalse)/ct.loc['All','All']\n",
    "print('Overall inpurtity of `verification_status`<0.5 is ', CART)"
   ]
  },
  {
   "cell_type": "code",
   "execution_count": null,
   "metadata": {},
   "outputs": [
    {
     "name": "stdout",
     "output_type": "stream",
     "text": [
      "Overall inpurtity of `verification_status`<1.5 is  0.241250148572477\n"
     ]
    }
   ],
   "source": [
    "ct=get_ct(df_t,df_t['verification_status']<1.5)\n",
    "GiniTrue=2*ct.loc[True,'Fully Paid(%)']*(1-ct.loc[True,'Fully Paid(%)'])\n",
    "GiniFalse=2*ct.loc[False,'Fully Paid(%)']*(1-ct.loc[False,'Fully Paid(%)'])\n",
    "CART=(ct.loc[True,'All']*GiniTrue+ct.loc[False,'All']*GiniFalse)/ct.loc['All','All']\n",
    "print('Overall inpurtity of `verification_status`<1.5 is ', CART)"
   ]
  },
  {
   "cell_type": "markdown",
   "metadata": {},
   "source": [
    "Así, la decisión que da la menor puntuación de impureza es `term<0,5` y éste es el nodo desde el que empezamos nuestro árbol de decisión. Por último, repetimos este procedimiento con los siguientes subconjuntos determinados por la decisión \"term<0,5\" hasta alcanzar la profundidad deseada o hasta que todos los conjuntos siguientes tengan impureza cero. En aras de la exhaustividad, podemos comprobar nuestros resultados utilizando el clasificador de árboles de decisión de `sklearn`:"
   ]
  },
  {
   "cell_type": "markdown",
   "metadata": {},
   "source": [
    "![](tree-2.png)"
   ]
  },
  {
   "cell_type": "markdown",
   "metadata": {},
   "source": [
    "Podemos ver que el enfoque del árbol de decisión no pone ninguna suposición sobre la relación entre el resultado y las covariables. Por lo tanto, es un algoritmo muy flexible que puede capturar una amplia gama de relaciones subyacentes entre el resultado y las covariables. Sin embargo, este algoritmo tiene muchos inconvenientes:\n",
    "\n",
    "1. Al ser tan flexible, tiende a sobreajustarse (overfitting). Cuando se aplica a un conjunto de validación independiente, el rendimiento suele disminuir considerablemente. Este inconveniente limita realmente la aplicación de los árboles de decisión.\n",
    "2. Es difícil de entrenar cuando el número de covariables es grande. En cada nodo interno, hay que escudriñar una larga lista de posibles variables de división, lo que hace que el algoritmo sea complicado desde el punto de vista computacional. Sin embargo, este problema se ha mitigado con la potencia informática moderna.\n",
    "3. Los árboles de decisión entrenados con el mismo conjunto de datos no son siempre iguales. Este problema de inestabilidad se debe a que el algoritmo puede no recorrer las covariables en el mismo orden cada vez. Como resultado, el árbol final puede variar mucho de una ejecución a otra."
   ]
  },
  {
   "cell_type": "markdown",
   "metadata": {},
   "source": [
    "### Ejercicio:\n",
    "\n",
    "Utilice la función `train_test_split` del paquete `sklearn`, seleccione al azar el 75% de la muestra de nuestro conjunto de datos y entrene un árbol de decisión en estas muestras con la covariable `annual_inc`. Evalúe la precisión del árbol en el conjunto de entrenamiento y en las muestras que no están incluidas en el conjunto de entrenamiento. ¿Ve un cambio significativo en la puntuación de precisión?"
   ]
  },
  {
   "cell_type": "code",
   "execution_count": null,
   "metadata": {},
   "outputs": [
    {
     "name": "stdout",
     "output_type": "stream",
     "text": [
      "Accuracy in training set: 0.8617886178861789\n",
      "Accuracy in the other samples: 0.8524336054562365\n"
     ]
    }
   ],
   "source": []
  },
  {
   "cell_type": "markdown",
   "metadata": {},
   "source": [
    "Podemos ver que la precisión desciende 0,1 en las muestras de prueba. Esto parece indicar que el problema de sobreajuste de nuestro árbol de decisión particular no es demasiado grave. Pero debemos tener en cuenta que la prevalencia de los no morosos en el conjunto de datos es mucho mayor que la de los morosos. Esto podría inflar la precisión de un clasificador que, de otro modo, sería mediocre. (Para ver un ejemplo de esto, considere un clasificador ingenuo que etiquete a todos como no morosos. Este clasificador acertaría la inmensa mayoría de las veces, pero difícilmente lo consideraríamos un buen clasificador)."
   ]
  },
  {
   "cell_type": "markdown",
   "metadata": {},
   "source": [
    "### Límite de decisión de un árbol de decisión\n",
    "\n",
    "El límite de decisión de un árbol de decisión puede ser muy poco lineal. Suele tener un aspecto de parches debido a que estamos dicotomizando el conjunto de datos en varios niveles. El siguiente es un ejemplo para un árbol construido con `annual_inc` y `loan_amnt`:"
   ]
  },
  {
   "cell_type": "code",
   "execution_count": null,
   "metadata": {},
   "outputs": [
    {
     "data": {
      "image/png": "[encoded data removed]",
      "text/plain": [
       "<Figure size 432x288 with 1 Axes>"
      ]
     },
     "metadata": {
      "needs_background": "light"
     },
     "output_type": "display_data"
    }
   ],
   "source": [
    "n_classes = 2\n",
    "plot_colors = 'br'\n",
    "\n",
    "labels = ['Charged off', 'Fully paid']\n",
    "\n",
    "clf = DecisionTreeClassifier().fit(df[['annual_inc', 'loan_amnt']], df['loan_status'].cat.codes)\n",
    "\n",
    "# Plot the decision boundary\n",
    "\n",
    "plot_step = 100\n",
    "viridis = cm.get_cmap('viridis', 2)\n",
    "newcolors = viridis(np.linspace(0, 1, 2))\n",
    "blue = np.array([0, 0, 1, 1])\n",
    "red = np.array([1, 0, 0, 1])\n",
    "newcolors[0, :] = blue\n",
    "newcolors[1, :] = red\n",
    "newcmp = ListedColormap(newcolors)\n",
    "\n",
    "np.random.seed(0)\n",
    "idx_plot = np.random.choice(df.shape[0], 100, replace = False )\n",
    "df_plot = df.iloc[idx_plot]\n",
    "\n",
    "x_min, x_max = df_plot['annual_inc'].min() - 1000, df_plot['annual_inc'].max() + 1000\n",
    "y_min, y_max = df_plot['loan_amnt'].min() - 1000, df_plot['loan_amnt'].max() + 1000\n",
    "xx, yy = np.meshgrid(np.arange(x_min, x_max, plot_step),\n",
    "                     np.arange(y_min, y_max, plot_step))\n",
    "\n",
    "fig, ax = plt.subplots()\n",
    "Z = clf.predict(np.c_[xx.ravel(), yy.ravel()])\n",
    "Z = Z.reshape(xx.shape)\n",
    "cs = plt.contourf(xx, yy, Z, cmap=newcmp, alpha = 0.7)\n",
    "\n",
    "plt.xlabel('Annual income')\n",
    "plt.ylabel('Loan amount')\n",
    "plt.axis('tight');\n",
    "\n",
    "for i, color in zip(range(n_classes), plot_colors):\n",
    "    idx = np.where(df_plot['loan_status'].cat.codes == i)\n",
    "    plt.scatter(df_plot.iloc[idx]['annual_inc'], df_plot.iloc[idx]['loan_amnt'], c=color, \n",
    "                label=labels[i], edgecolors='black')\n",
    "\n",
    "legend_elements = [Patch(facecolor='blue', edgecolor='blue', label='Charged off'),\n",
    "                   Patch(facecolor='red', edgecolor='red', label='Fully paid')]\n",
    "\n",
    "plt.axis('tight')\n",
    "plt.title('Decision surface of a decision tree')\n",
    "leg1 = ax.legend(loc='upper left', title='Observed outcome')\n",
    "ax.legend(handles=legend_elements, loc='lower right', title='Predicted outcome');\n",
    "ax.add_artist(leg1);"
   ]
  },
  {
   "cell_type": "markdown",
   "metadata": {},
   "source": [
    "### Random forest para mejorar el rendimiento del árbol de decisión\n",
    "\n",
    "**Los bosques aleatorios** podrían ser el algoritmo de aprendizaje automático más popular tanto para la clasificación como para la regresión. La idea detrás de los bosques aleatorios es construir un montón de árboles de decisión y, a continuación, utilizar un mecanismo de votación para producir una predicción final que sea acordada por la mayoría de los árboles de decisión. Al entrenar estos árboles individuales, también submuestreamos el conjunto de datos, así como las covariables disponibles, para obtener la mayor validación cruzada posible. Como resultado, el problema del sobreajuste y la estabilidad en un único modelo de árbol de decisión se resuelve en gran medida. Vamos a ajustar un clasificador de bosque aleatorio con las covariables `term` y `annual_inc` y a generar su curva ROC utilizando los datos de entrenamiento:"
   ]
  },
  {
   "cell_type": "code",
   "execution_count": null,
   "metadata": {},
   "outputs": [
    {
     "data": {
      "image/png": "[encoded data removed]",
      "text/plain": [
       "<Figure size 432x288 with 1 Axes>"
      ]
     },
     "metadata": {
      "needs_background": "light"
     },
     "output_type": "display_data"
    }
   ],
   "source": [
    "clf_rf = RandomForestClassifier(n_estimators=100, max_depth=2, random_state=0)\n",
    "clf_rf.fit(df_log[['annual_inc', 'term']], df['loan_status'].cat.codes)\n",
    "clf_rf_probas = clf_rf.predict_proba(df_log[['annual_inc', 'term']])\n",
    "\n",
    "roc_p = roc_curve(df['loan_status'].cat.codes, clf_rf_probas[:,1])\n",
    "auc_p = auc_p = auc( roc_p[0], roc_p[1] )\n",
    "\n",
    "plt.figure()\n",
    "line_width = 2\n",
    "plt.plot(roc_p[0], roc_p[1], color='darkorange', lw=line_width,\n",
    "         label=f\"ROC curve for Random Forest Classifier(AUC = {auc_p:0.2f})\")\n",
    "plt.plot([0, 1], [0, 1], color='navy', lw=line_width, linestyle='--', label='Random guess')\n",
    "plt.xlim([0.0, 1.0])\n",
    "plt.ylim([0.0, 1.05])\n",
    "plt.xlabel('False Positive Rate')\n",
    "plt.ylabel('True Positive Rate')\n",
    "plt.title('Classification of Defaulters')\n",
    "plt.legend(loc='lower right')\n",
    "plt.show()"
   ]
  },
  {
   "cell_type": "code",
   "execution_count": null,
   "metadata": {},
   "outputs": [],
   "source": []
  }
 ],
 "metadata": {
  "c1_recart": "7.1.0-57c20131aabc1dc2a8c675852d80a7da",
  "kernelspec": {
   "display_name": "Python 3 (ipykernel)",
   "language": "python",
   "name": "python3"
  },
  "language_info": {
   "codemirror_mode": {
    "name": "ipython",
    "version": 3
   },
   "file_extension": ".py",
   "mimetype": "text/x-python",
   "name": "python",
   "nbconvert_exporter": "python",
   "pygments_lexer": "ipython3",
   "version": "3.11.4"
  }
 },
 "nbformat": 4,
 "nbformat_minor": 2
}
